{
 "cells": [
  {
   "cell_type": "code",
   "execution_count": 1,
   "id": "cf371d78",
   "metadata": {
    "vscode": {
     "languageId": "r"
    }
   },
   "outputs": [
    {
     "data": {
      "text/plain": [
       "\n",
       "Call:\n",
       "lm(formula = y ~ x)\n",
       "\n",
       "Residuals:\n",
       "     Min       1Q   Median       3Q      Max \n",
       "-0.80547 -0.40013 -0.18412  0.03772  2.22146 \n",
       "\n",
       "Coefficients:\n",
       "            Estimate Std. Error t value Pr(>|t|)\n",
       "(Intercept)   0.2413     0.2775   0.870     0.41\n",
       "x             0.4237     0.5209   0.813     0.44\n",
       "\n",
       "Residual standard error: 0.8769 on 8 degrees of freedom\n",
       "Multiple R-squared:  0.07637,\tAdjusted R-squared:  -0.03908 \n",
       "F-statistic: 0.6615 on 1 and 8 DF,  p-value: 0.4396\n"
      ]
     },
     "metadata": {},
     "output_type": "display_data"
    }
   ],
   "source": [
    "## 1.For the given model out, find R Square and Adjusted R square values and comment over the estimated values.\n",
    "set.seed(100)\n",
    "x <- rnorm(10)\n",
    "y <- rnorm(10)\n",
    "mod <- lm(y~x)\n",
    "summary(mod)"
   ]
  },
  {
   "cell_type": "code",
   "execution_count": 2,
   "id": "0b881aac",
   "metadata": {
    "vscode": {
     "languageId": "r"
    }
   },
   "outputs": [
    {
     "data": {
      "text/html": [
       "<table>\n",
       "<thead><tr><th></th><th scope=col>Df</th><th scope=col>Sum Sq</th><th scope=col>Mean Sq</th><th scope=col>F value</th><th scope=col>Pr(&gt;F)</th></tr></thead>\n",
       "<tbody>\n",
       "\t<tr><th scope=row>x</th><td>1        </td><td>0.5086551</td><td>0.5086551</td><td>0.6615159</td><td>0.4395588</td></tr>\n",
       "\t<tr><th scope=row>Residuals</th><td>8        </td><td>6.1513879</td><td>0.7689235</td><td>       NA</td><td>       NA</td></tr>\n",
       "</tbody>\n",
       "</table>\n"
      ],
      "text/latex": [
       "\\begin{tabular}{r|lllll}\n",
       "  & Df & Sum Sq & Mean Sq & F value & Pr(>F)\\\\\n",
       "\\hline\n",
       "\tx & 1         & 0.5086551 & 0.5086551 & 0.6615159 & 0.4395588\\\\\n",
       "\tResiduals & 8         & 6.1513879 & 0.7689235 &        NA &        NA\\\\\n",
       "\\end{tabular}\n"
      ],
      "text/markdown": [
       "\n",
       "| <!--/--> | Df | Sum Sq | Mean Sq | F value | Pr(>F) |\n",
       "|---|---|---|---|---|---|\n",
       "| x | 1         | 0.5086551 | 0.5086551 | 0.6615159 | 0.4395588 |\n",
       "| Residuals | 8         | 6.1513879 | 0.7689235 |        NA |        NA |\n",
       "\n"
      ],
      "text/plain": [
       "          Df Sum Sq    Mean Sq   F value   Pr(>F)   \n",
       "x         1  0.5086551 0.5086551 0.6615159 0.4395588\n",
       "Residuals 8  6.1513879 0.7689235        NA        NA"
      ]
     },
     "metadata": {},
     "output_type": "display_data"
    },
    {
     "data": {
      "text/plain": [
       "\n",
       "\tOne Sample t-test\n",
       "\n",
       "data:  R2array\n",
       "t = 61.488, df = 999, p-value < 2.2e-16\n",
       "alternative hypothesis: true mean is not equal to 0\n",
       "95 percent confidence interval:\n",
       " 0.2572474 0.2742084\n",
       "sample estimates:\n",
       "mean of x \n",
       "0.2657279 \n"
      ]
     },
     "metadata": {},
     "output_type": "display_data"
    }
   ],
   "source": [
    "anova(mod)\n",
    "\n",
    "set.seed(6121)\n",
    "n <- 20\n",
    "simulations <- 1000\n",
    "R2array <- array(0, dim=simulations)\n",
    "for (i in 1:simulations) {\n",
    "  x <- rnorm(n)\n",
    "  z <- array(rnorm(n*4), dim=c(n,4))\n",
    "  y <- 0.1*x + rnorm(n)\n",
    "  mod <- lm(y~x+z)\n",
    "  R2array[i] <- summary(mod)$r.squared\n",
    "}\n",
    "t.test(R2array)\n",
    "\n"
   ]
  },
  {
   "cell_type": "code",
   "execution_count": 4,
   "id": "8b407e03",
   "metadata": {
    "vscode": {
     "languageId": "r"
    }
   },
   "outputs": [
    {
     "data": {
      "text/html": [
       "0.767002539013904"
      ],
      "text/latex": [
       "0.767002539013904"
      ],
      "text/markdown": [
       "0.767002539013904"
      ],
      "text/plain": [
       "[1] 0.7670025"
      ]
     },
     "metadata": {},
     "output_type": "display_data"
    }
   ],
   "source": [
    "mtcars.lm = lm(mpg ~ hp + am , data=mtcars)\n",
    "\n",
    "summary(mtcars.lm)$adj.r.squared"
   ]
  },
  {
   "cell_type": "code",
   "execution_count": 5,
   "id": "9b8c5d6a",
   "metadata": {
    "vscode": {
     "languageId": "r"
    }
   },
   "outputs": [
    {
     "data": {
      "text/html": [
       "<table>\n",
       "<thead><tr><th></th><th scope=col>mpg</th><th scope=col>cyl</th><th scope=col>disp</th><th scope=col>hp</th><th scope=col>drat</th><th scope=col>wt</th><th scope=col>qsec</th><th scope=col>vs</th><th scope=col>am</th><th scope=col>gear</th><th scope=col>carb</th></tr></thead>\n",
       "<tbody>\n",
       "\t<tr><th scope=row>Mazda RX4</th><td>21.0 </td><td>6    </td><td>160  </td><td>110  </td><td>3.90 </td><td>2.620</td><td>16.46</td><td>0    </td><td>1    </td><td>4    </td><td>4    </td></tr>\n",
       "\t<tr><th scope=row>Mazda RX4 Wag</th><td>21.0 </td><td>6    </td><td>160  </td><td>110  </td><td>3.90 </td><td>2.875</td><td>17.02</td><td>0    </td><td>1    </td><td>4    </td><td>4    </td></tr>\n",
       "\t<tr><th scope=row>Datsun 710</th><td>22.8 </td><td>4    </td><td>108  </td><td> 93  </td><td>3.85 </td><td>2.320</td><td>18.61</td><td>1    </td><td>1    </td><td>4    </td><td>1    </td></tr>\n",
       "\t<tr><th scope=row>Hornet 4 Drive</th><td>21.4 </td><td>6    </td><td>258  </td><td>110  </td><td>3.08 </td><td>3.215</td><td>19.44</td><td>1    </td><td>0    </td><td>3    </td><td>1    </td></tr>\n",
       "\t<tr><th scope=row>Hornet Sportabout</th><td>18.7 </td><td>8    </td><td>360  </td><td>175  </td><td>3.15 </td><td>3.440</td><td>17.02</td><td>0    </td><td>0    </td><td>3    </td><td>2    </td></tr>\n",
       "</tbody>\n",
       "</table>\n"
      ],
      "text/latex": [
       "\\begin{tabular}{r|lllllllllll}\n",
       "  & mpg & cyl & disp & hp & drat & wt & qsec & vs & am & gear & carb\\\\\n",
       "\\hline\n",
       "\tMazda RX4 & 21.0  & 6     & 160   & 110   & 3.90  & 2.620 & 16.46 & 0     & 1     & 4     & 4    \\\\\n",
       "\tMazda RX4 Wag & 21.0  & 6     & 160   & 110   & 3.90  & 2.875 & 17.02 & 0     & 1     & 4     & 4    \\\\\n",
       "\tDatsun 710 & 22.8  & 4     & 108   &  93   & 3.85  & 2.320 & 18.61 & 1     & 1     & 4     & 1    \\\\\n",
       "\tHornet 4 Drive & 21.4  & 6     & 258   & 110   & 3.08  & 3.215 & 19.44 & 1     & 0     & 3     & 1    \\\\\n",
       "\tHornet Sportabout & 18.7  & 8     & 360   & 175   & 3.15  & 3.440 & 17.02 & 0     & 0     & 3     & 2    \\\\\n",
       "\\end{tabular}\n"
      ],
      "text/markdown": [
       "\n",
       "| <!--/--> | mpg | cyl | disp | hp | drat | wt | qsec | vs | am | gear | carb |\n",
       "|---|---|---|---|---|---|---|---|---|---|---|---|\n",
       "| Mazda RX4 | 21.0  | 6     | 160   | 110   | 3.90  | 2.620 | 16.46 | 0     | 1     | 4     | 4     |\n",
       "| Mazda RX4 Wag | 21.0  | 6     | 160   | 110   | 3.90  | 2.875 | 17.02 | 0     | 1     | 4     | 4     |\n",
       "| Datsun 710 | 22.8  | 4     | 108   |  93   | 3.85  | 2.320 | 18.61 | 1     | 1     | 4     | 1     |\n",
       "| Hornet 4 Drive | 21.4  | 6     | 258   | 110   | 3.08  | 3.215 | 19.44 | 1     | 0     | 3     | 1     |\n",
       "| Hornet Sportabout | 18.7  | 8     | 360   | 175   | 3.15  | 3.440 | 17.02 | 0     | 0     | 3     | 2     |\n",
       "\n"
      ],
      "text/plain": [
       "                  mpg  cyl disp hp  drat wt    qsec  vs am gear carb\n",
       "Mazda RX4         21.0 6   160  110 3.90 2.620 16.46 0  1  4    4   \n",
       "Mazda RX4 Wag     21.0 6   160  110 3.90 2.875 17.02 0  1  4    4   \n",
       "Datsun 710        22.8 4   108   93 3.85 2.320 18.61 1  1  4    1   \n",
       "Hornet 4 Drive    21.4 6   258  110 3.08 3.215 19.44 1  0  3    1   \n",
       "Hornet Sportabout 18.7 8   360  175 3.15 3.440 17.02 0  0  3    2   "
      ]
     },
     "metadata": {},
     "output_type": "display_data"
    },
    {
     "data": {
      "text/html": [
       "195.047754741466"
      ],
      "text/latex": [
       "195.047754741466"
      ],
      "text/markdown": [
       "195.047754741466"
      ],
      "text/plain": [
       "[1] 195.0478"
      ]
     },
     "metadata": {},
     "output_type": "display_data"
    },
    {
     "data": {
      "text/html": [
       "195.047754741466"
      ],
      "text/latex": [
       "195.047754741466"
      ],
      "text/markdown": [
       "195.047754741466"
      ],
      "text/plain": [
       "[1] 195.0478"
      ]
     },
     "metadata": {},
     "output_type": "display_data"
    },
    {
     "data": {
      "text/html": [
       "195.047754741466"
      ],
      "text/latex": [
       "195.047754741466"
      ],
      "text/markdown": [
       "195.047754741466"
      ],
      "text/plain": [
       "[1] 195.0478"
      ]
     },
     "metadata": {},
     "output_type": "display_data"
    },
    {
     "data": {
      "text/html": [
       "246.682502389815"
      ],
      "text/latex": [
       "246.682502389815"
      ],
      "text/markdown": [
       "246.682502389815"
      ],
      "text/plain": [
       "[1] 246.6825"
      ]
     },
     "metadata": {},
     "output_type": "display_data"
    }
   ],
   "source": [
    "## 2. Calculate Residual Sum of square and compare with hypothesized population variance. How residual sum of square and population variance is related with each other.\n",
    "\n",
    "head(mtcars, 5)\n",
    "model <- lm(mpg ~ wt + hp, data = mtcars)\n",
    "deviance(model)\n",
    "sum(resid(model)^2)\n",
    "model1 <- lm(mpg ~ wt + hp, data = mtcars)\n",
    "model2 <- lm(mpg ~ wt + disp, data = mtcars)\n",
    "deviance(model1)\n",
    "deviance(model2)\n"
   ]
  },
  {
   "cell_type": "code",
   "execution_count": 6,
   "id": "bcdb1677",
   "metadata": {
    "vscode": {
     "languageId": "r"
    }
   },
   "outputs": [
    {
     "data": {
      "text/html": [
       "0.826785451882791"
      ],
      "text/latex": [
       "0.826785451882791"
      ],
      "text/markdown": [
       "0.826785451882791"
      ],
      "text/plain": [
       "[1] 0.8267855"
      ]
     },
     "metadata": {},
     "output_type": "display_data"
    }
   ],
   "source": [
    "summary(model1)$r.squared"
   ]
  },
  {
   "cell_type": "code",
   "execution_count": 7,
   "id": "57f3241e",
   "metadata": {
    "vscode": {
     "languageId": "r"
    }
   },
   "outputs": [
    {
     "data": {
      "text/html": [
       "0.780930581659292"
      ],
      "text/latex": [
       "0.780930581659292"
      ],
      "text/markdown": [
       "0.780930581659292"
      ],
      "text/plain": [
       "[1] 0.7809306"
      ]
     },
     "metadata": {},
     "output_type": "display_data"
    }
   ],
   "source": [
    "summary(model2)$r.squared"
   ]
  },
  {
   "cell_type": "code",
   "execution_count": 9,
   "id": "7200184c",
   "metadata": {
    "vscode": {
     "languageId": "r"
    }
   },
   "outputs": [
    {
     "name": "stderr",
     "output_type": "stream",
     "text": [
      "Warning message:\n",
      "\"package 'rpart' was built under R version 3.6.3\"Warning message:\n",
      "\"package 'readr' was built under R version 3.6.3\"Warning message:\n",
      "\"package 'caTools' was built under R version 3.6.3\"Warning message:\n",
      "\"package 'dplyr' was built under R version 3.6.3\"\n",
      "Attaching package: 'dplyr'\n",
      "\n",
      "The following objects are masked from 'package:stats':\n",
      "\n",
      "    filter, lag\n",
      "\n",
      "The following objects are masked from 'package:base':\n",
      "\n",
      "    intersect, setdiff, setequal, union\n",
      "\n",
      "Warning message:\n",
      "\"package 'party' was built under R version 3.6.3\"Loading required package: grid\n",
      "Loading required package: mvtnorm\n",
      "Warning message:\n",
      "\"package 'mvtnorm' was built under R version 3.6.3\"Loading required package: modeltools\n",
      "Warning message:\n",
      "\"package 'modeltools' was built under R version 3.6.3\"Loading required package: stats4\n",
      "Loading required package: strucchange\n",
      "Warning message:\n",
      "\"package 'strucchange' was built under R version 3.6.3\"Loading required package: zoo\n",
      "\n",
      "Attaching package: 'zoo'\n",
      "\n",
      "The following objects are masked from 'package:base':\n",
      "\n",
      "    as.Date, as.Date.numeric\n",
      "\n",
      "Loading required package: sandwich\n"
     ]
    },
    {
     "ename": "ERROR",
     "evalue": "Error in library(partykit): there is no package called 'partykit'\n",
     "output_type": "error",
     "traceback": [
      "Error in library(partykit): there is no package called 'partykit'\nTraceback:\n",
      "1. library(partykit)"
     ]
    }
   ],
   "source": [
    "## 3. Candidates and split columns in a random forest technique for Dimensionality reduction.\n",
    "\n",
    "library(rpart)\n",
    "library(readr)\n",
    "library(caTools)\n",
    "library(dplyr)\n",
    "library(party)\n",
    "library(partykit)\n",
    "library(rpart.plot)"
   ]
  },
  {
   "cell_type": "code",
   "execution_count": 17,
   "id": "476715a1",
   "metadata": {
    "vscode": {
     "languageId": "r"
    }
   },
   "outputs": [],
   "source": [
    "titanic_data <- \"https://goo.gl/At238b\" %>%  \n",
    "read.csv %>% # read in the data\n",
    "select(survived, embarked, sex, sibsp, parch, fare) %>%\n",
    "mutate(embarked = factor(embarked),sex = factor(sex))"
   ]
  },
  {
   "cell_type": "code",
   "execution_count": 18,
   "id": "3448c1fc",
   "metadata": {
    "vscode": {
     "languageId": "r"
    }
   },
   "outputs": [],
   "source": [
    "set.seed(123)"
   ]
  },
  {
   "cell_type": "code",
   "execution_count": 20,
   "id": "48338f5a",
   "metadata": {
    "scrolled": true,
    "vscode": {
     "languageId": "r"
    }
   },
   "outputs": [
    {
     "name": "stdout",
     "output_type": "stream",
     "text": [
      "\n",
      "  There is a binary version available but the source version is later:\n",
      "           binary source needs_compilation\n",
      "rpart.plot  3.0.9  3.1.0             FALSE\n",
      "\n"
     ]
    },
    {
     "name": "stderr",
     "output_type": "stream",
     "text": [
      "installing the source package 'rpart.plot'\n",
      "\n"
     ]
    }
   ],
   "source": [
    "install.packages('rpart.plot')"
   ]
  },
  {
   "cell_type": "code",
   "execution_count": 21,
   "id": "1977e6e2",
   "metadata": {
    "vscode": {
     "languageId": "r"
    }
   },
   "outputs": [],
   "source": [
    "library(rpart.plot)"
   ]
  },
  {
   "cell_type": "code",
   "execution_count": 22,
   "id": "bdc925ea",
   "metadata": {
    "vscode": {
     "languageId": "r"
    }
   },
   "outputs": [
    {
     "data": {
      "image/png": "[encoded data removed]",
      "text/plain": [
       "plot without title"
      ]
     },
     "metadata": {},
     "output_type": "display_data"
    }
   ],
   "source": [
    "sample_data  <-  sample.split(titanic_data, SplitRatio = 0.75)\n",
    "train_data <- subset(titanic_data, sample_data == TRUE)\n",
    "test_data <- subset(titanic_data, sample_data == FALSE)\n",
    "\n",
    "rtree <- rpart(survived ~ .,train_data)\n",
    "rpart.plot(rtree)"
   ]
  },
  {
   "cell_type": "code",
   "execution_count": 23,
   "id": "1111f3a9",
   "metadata": {
    "vscode": {
     "languageId": "r"
    }
   },
   "outputs": [
    {
     "data": {
      "image/png": "[encoded data removed]",
      "text/plain": [
       "plot without title"
      ]
     },
     "metadata": {},
     "output_type": "display_data"
    }
   ],
   "source": [
    "ctree_ <- ctree(survived ~ ., train_data)\n",
    "plot(ctree_)"
   ]
  }
 ],
 "metadata": {
  "kernelspec": {
   "display_name": "R",
   "language": "R",
   "name": "ir"
  },
  "language_info": {
   "codemirror_mode": "r",
   "file_extension": ".r",
   "mimetype": "text/x-r-source",
   "name": "R",
   "pygments_lexer": "r",
   "version": "3.6.1"
  }
 },
 "nbformat": 4,
 "nbformat_minor": 5
}
