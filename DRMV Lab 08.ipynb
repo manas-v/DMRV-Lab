{
 "cells": [
  {
   "cell_type": "code",
   "execution_count": 1,
   "id": "d37f872b",
   "metadata": {
    "vscode": {
     "languageId": "r"
    }
   },
   "outputs": [],
   "source": [
    "## 1. Calculate F test statistic value to find the significance of regression Coefficients and relate F value with t test statistic in simple linear regression.\n",
    "\n",
    "#We apply the lm function to a formula that describes the variable eruptions by the variable waiting, and save the linear regression model in a new variable eruption.lm.\n",
    "\n",
    "eruption.lm = lm(eruptions ~ waiting, data=faithful)"
   ]
  },
  {
   "cell_type": "code",
   "execution_count": 2,
   "id": "3c4d5d42",
   "metadata": {
    "vscode": {
     "languageId": "r"
    }
   },
   "outputs": [
    {
     "data": {
      "text/plain": [
       "\n",
       "Call:\n",
       "lm(formula = eruptions ~ waiting, data = faithful)\n",
       "\n",
       "Residuals:\n",
       "     Min       1Q   Median       3Q      Max \n",
       "-1.29917 -0.37689  0.03508  0.34909  1.19329 \n",
       "\n",
       "Coefficients:\n",
       "             Estimate Std. Error t value Pr(>|t|)    \n",
       "(Intercept) -1.874016   0.160143  -11.70   <2e-16 ***\n",
       "waiting      0.075628   0.002219   34.09   <2e-16 ***\n",
       "---\n",
       "Signif. codes:  0 '***' 0.001 '**' 0.01 '*' 0.05 '.' 0.1 ' ' 1\n",
       "\n",
       "Residual standard error: 0.4965 on 270 degrees of freedom\n",
       "Multiple R-squared:  0.8115,\tAdjusted R-squared:  0.8108 \n",
       "F-statistic:  1162 on 1 and 270 DF,  p-value: < 2.2e-16\n"
      ]
     },
     "metadata": {},
     "output_type": "display_data"
    },
    {
     "data": {
      "text/plain": [
       "\n",
       "\tOne Sample t-test\n",
       "\n",
       "data:  faithful\n",
       "t = 18.077, df = 543, p-value < 2.2e-16\n",
       "alternative hypothesis: true mean is not equal to 10\n",
       "95 percent confidence interval:\n",
       " 34.23751 40.14733\n",
       "sample estimates:\n",
       "mean of x \n",
       " 37.19242 \n"
      ]
     },
     "metadata": {},
     "output_type": "display_data"
    },
    {
     "data": {
      "text/html": [
       "0.81146076097331"
      ],
      "text/latex": [
       "0.81146076097331"
      ],
      "text/markdown": [
       "0.81146076097331"
      ],
      "text/plain": [
       "[1] 0.8114608"
      ]
     },
     "metadata": {},
     "output_type": "display_data"
    }
   ],
   "source": [
    "#Then we print out the F-statistics of the significance test with the summary function.\n",
    "summary(eruption.lm)\n",
    "t.test(faithful, mu = 10)\n",
    "summary(eruption.lm)$r.squared"
   ]
  },
  {
   "cell_type": "code",
   "execution_count": 3,
   "id": "ce4b60a8",
   "metadata": {
    "vscode": {
     "languageId": "r"
    }
   },
   "outputs": [
    {
     "data": {
      "image/png": "[encoded data removed]",
      "text/plain": [
       "Plot with title \"\""
      ]
     },
     "metadata": {},
     "output_type": "display_data"
    }
   ],
   "source": [
    "## 2. Find the presence of homoscedasticity and explain how equal variance helps in estimating the unbiased estimation of regression coefficients.\n",
    "\n",
    "lmMod <- lm(dist ~ speed, data=cars) # initial model\n",
    "par(mfrow=c(2,2)) # init 4 charts in 1 panel\n",
    "plot(lmMod)\n",
    "\n"
   ]
  },
  {
   "cell_type": "code",
   "execution_count": 4,
   "id": "9ef41e60",
   "metadata": {
    "vscode": {
     "languageId": "r"
    }
   },
   "outputs": [
    {
     "ename": "ERROR",
     "evalue": "Error in library(car): there is no package called 'car'\n",
     "output_type": "error",
     "traceback": [
      "Error in library(car): there is no package called 'car'\nTraceback:\n",
      "1. library(car)"
     ]
    }
   ],
   "source": [
    "library(car)"
   ]
  },
  {
   "cell_type": "code",
   "execution_count": 5,
   "id": "3cbe4625",
   "metadata": {
    "vscode": {
     "languageId": "r"
    }
   },
   "outputs": [
    {
     "ename": "ERROR",
     "evalue": "Error in qqPlot(model, labels = row.names(data), id.method = \"identify\", : could not find function \"qqPlot\"\n",
     "output_type": "error",
     "traceback": [
      "Error in qqPlot(model, labels = row.names(data), id.method = \"identify\", : could not find function \"qqPlot\"\nTraceback:\n"
     ]
    }
   ],
   "source": [
    "data  <- mtcars\n",
    "model <- lm(log(mpg) ~ cyl + disp + gear+carb, data=data)\n",
    "\n",
    "qqPlot(model,labels = row.names(data),id.method = \"identify\",\n",
    "       simulate= TRUE, main='QQ PLOT')\n",
    "\n"
   ]
  },
  {
   "cell_type": "code",
   "execution_count": 6,
   "id": "bfcfb44c",
   "metadata": {
    "vscode": {
     "languageId": "r"
    }
   },
   "outputs": [
    {
     "ename": "ERROR",
     "evalue": "Error in vif(model): could not find function \"vif\"\n",
     "output_type": "error",
     "traceback": [
      "Error in vif(model): could not find function \"vif\"\nTraceback:\n"
     ]
    }
   ],
   "source": [
    "vif(model)\n",
    "sqrt(vif(model)) >2\n",
    "crPlots(model)"
   ]
  },
  {
   "cell_type": "code",
   "execution_count": null,
   "id": "36fedb27",
   "metadata": {
    "vscode": {
     "languageId": "r"
    }
   },
   "outputs": [],
   "source": []
  }
 ],
 "metadata": {
  "kernelspec": {
   "display_name": "R",
   "language": "R",
   "name": "ir"
  },
  "language_info": {
   "codemirror_mode": "r",
   "file_extension": ".r",
   "mimetype": "text/x-r-source",
   "name": "R",
   "pygments_lexer": "r",
   "version": "3.6.1"
  }
 },
 "nbformat": 4,
 "nbformat_minor": 5
}
