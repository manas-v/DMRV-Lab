{
 "cells": [
  {
   "cell_type": "code",
   "execution_count": 1,
   "id": "958dc317",
   "metadata": {
    "vscode": {
     "languageId": "r"
    }
   },
   "outputs": [
    {
     "ename": "ERROR",
     "evalue": "Error in library(psych): there is no package called 'psych'\n",
     "output_type": "error",
     "traceback": [
      "Error in library(psych): there is no package called 'psych'\nTraceback:\n",
      "1. library(psych)"
     ]
    }
   ],
   "source": [
    "# Varimax Rotated Principal Components\n",
    "# retaining 5 components\n",
    "\n",
    "library(psych)\n",
    "fit <- principal(mtcars, nfactors=5, rotate=\"varimax\")\n",
    "fit # print results"
   ]
  },
  {
   "cell_type": "code",
   "execution_count": 2,
   "id": "30e220e6",
   "metadata": {
    "vscode": {
     "languageId": "r"
    }
   },
   "outputs": [
    {
     "name": "stdout",
     "output_type": "stream",
     "text": [
      "\n",
      "Call:\n",
      "factanal(x = mtcars, factors = 3, rotation = \"varimax\")\n",
      "\n",
      "Uniquenesses:\n",
      " mpg  cyl disp   hp drat   wt qsec   vs   am gear carb \n",
      "0.13 0.06 0.09 0.13 0.29 0.06 0.05 0.22 0.21 0.12 0.16 \n",
      "\n",
      "Loadings:\n",
      "     Factor1 Factor2 Factor3\n",
      "mpg   0.64   -0.48   -0.47  \n",
      "disp -0.72    0.54    0.32  \n",
      "drat  0.80                  \n",
      "wt   -0.78            0.52  \n",
      "am    0.88                  \n",
      "gear  0.91                  \n",
      "cyl  -0.62    0.70          \n",
      "hp            0.72    0.51  \n",
      "qsec         -0.95          \n",
      "vs           -0.80          \n",
      "carb          0.56    0.72  \n",
      "\n",
      "               Factor1 Factor2 Factor3\n",
      "SS loadings       4.38    3.52    1.58\n",
      "Proportion Var    0.40    0.32    0.14\n",
      "Cumulative Var    0.40    0.72    0.86\n",
      "\n",
      "Test of the hypothesis that 3 factors are sufficient.\n",
      "The chi square statistic is 30.53 on 25 degrees of freedom.\n",
      "The p-value is 0.205 \n"
     ]
    }
   ],
   "source": [
    "# Maximum Likelihood Factor Analysis\n",
    "# entering raw data and extracting 3 factors,\n",
    "# with varimax rotation\n",
    "\n",
    "fit <- factanal(mtcars, 3, rotation=\"varimax\")\n",
    "print(fit, digits=2, cutoff=.3, sort=TRUE)"
   ]
  },
  {
   "cell_type": "code",
   "execution_count": 3,
   "id": "0d4063f6",
   "metadata": {
    "vscode": {
     "languageId": "r"
    }
   },
   "outputs": [
    {
     "data": {
      "image/png": "[encoded data removed]",
      "text/plain": [
       "plot without title"
      ]
     },
     "metadata": {},
     "output_type": "display_data"
    }
   ],
   "source": [
    "# plot factor 1 by factor 2\n",
    "load <- fit$loadings[,1:2]\n",
    "plot(load,type=\"n\") # set up plot\n",
    "text(load,labels=names(mtcars),cex=.7) # add variable names"
   ]
  },
  {
   "cell_type": "code",
   "execution_count": 4,
   "id": "42e41e10",
   "metadata": {
    "vscode": {
     "languageId": "r"
    }
   },
   "outputs": [
    {
     "name": "stderr",
     "output_type": "stream",
     "text": [
      "Loading required package: psych\n",
      "Warning message in library(package, lib.loc = lib.loc, character.only = TRUE, logical.return = TRUE, :\n",
      "\"there is no package called 'psych'\"Loading required package: GPArotation\n",
      "Warning message in library(package, lib.loc = lib.loc, character.only = TRUE, logical.return = TRUE, :\n",
      "\"there is no package called 'GPArotation'\""
     ]
    }
   ],
   "source": [
    "require(psych)\n",
    "require(GPArotation)"
   ]
  },
  {
   "cell_type": "code",
   "execution_count": 5,
   "id": "e082dd64",
   "metadata": {
    "vscode": {
     "languageId": "r"
    }
   },
   "outputs": [
    {
     "ename": "ERROR",
     "evalue": "Error in fa(mtcars, nfactors = 3, rotation = \"varimax\"): could not find function \"fa\"\n",
     "output_type": "error",
     "traceback": [
      "Error in fa(mtcars, nfactors = 3, rotation = \"varimax\"): could not find function \"fa\"\nTraceback:\n"
     ]
    }
   ],
   "source": [
    "# Principal Axis Factor Analysis\n",
    "fit <- fa(mtcars, nfactors=3, rotation=\"varimax\")\n",
    "fit # print results"
   ]
  },
  {
   "cell_type": "code",
   "execution_count": 6,
   "id": "4c0bc43a",
   "metadata": {
    "vscode": {
     "languageId": "r"
    }
   },
   "outputs": [
    {
     "name": "stderr",
     "output_type": "stream",
     "text": [
      "also installing the dependencies 'tmvnsim', 'mnormt', 'psych'\n",
      "\n"
     ]
    },
    {
     "name": "stdout",
     "output_type": "stream",
     "text": [
      "\n",
      "  There is a binary version available but the source version is later:\n",
      "      binary source needs_compilation\n",
      "psych  2.1.3  2.1.9             FALSE\n",
      "\n",
      "package 'tmvnsim' successfully unpacked and MD5 sums checked\n",
      "package 'mnormt' successfully unpacked and MD5 sums checked\n",
      "package 'nFactors' successfully unpacked and MD5 sums checked\n",
      "\n",
      "The downloaded binary packages are in\n",
      "\tC:\\Users\\manas\\AppData\\Local\\Temp\\RtmpM9udTf\\downloaded_packages\n"
     ]
    },
    {
     "name": "stderr",
     "output_type": "stream",
     "text": [
      "installing the source package 'psych'\n",
      "\n",
      "Warning message:\n",
      "\"package 'nFactors' was built under R version 3.6.3\"Loading required package: lattice\n",
      "Warning message:\n",
      "\"package 'lattice' was built under R version 3.6.3\"\n",
      "Attaching package: 'nFactors'\n",
      "\n",
      "The following object is masked from 'package:lattice':\n",
      "\n",
      "    parallel\n",
      "\n"
     ]
    },
    {
     "data": {
      "image/png": "[encoded data removed]",
      "text/plain": [
       "Plot with title \"Non Graphical Solutions to Scree Test\""
      ]
     },
     "metadata": {},
     "output_type": "display_data"
    }
   ],
   "source": [
    "# Determine Number of Factors to Extract\n",
    "install.packages(\"nFactors\")\n",
    "library(nFactors)\n",
    "\n",
    "ev <- eigen(cor(mtcars)) # get eigenvalues\n",
    "\n",
    "\n",
    "ap <- parallel(subject=nrow(mtcars),var=ncol(mtcars),\n",
    "  rep=100,cent=.05)\n",
    "\n",
    "nS <- nScree(x=ev$values, aparallel=ap$eigen$qevpea)\n",
    "plotnScree(nS)"
   ]
  },
  {
   "cell_type": "code",
   "execution_count": null,
   "id": "e592105c",
   "metadata": {
    "vscode": {
     "languageId": "r"
    }
   },
   "outputs": [],
   "source": []
  }
 ],
 "metadata": {
  "kernelspec": {
   "display_name": "R",
   "language": "R",
   "name": "ir"
  },
  "language_info": {
   "codemirror_mode": "r",
   "file_extension": ".r",
   "mimetype": "text/x-r-source",
   "name": "R",
   "pygments_lexer": "r",
   "version": "3.6.1"
  }
 },
 "nbformat": 4,
 "nbformat_minor": 5
}
