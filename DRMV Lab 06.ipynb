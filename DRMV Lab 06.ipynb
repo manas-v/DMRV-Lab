{
 "cells": [
  {
   "cell_type": "code",
   "execution_count": 1,
   "id": "7518b0a9",
   "metadata": {
    "vscode": {
     "languageId": "r"
    }
   },
   "outputs": [
    {
     "name": "stderr",
     "output_type": "stream",
     "text": [
      "Warning message:\n",
      "\"package 'magrittr' was built under R version 3.6.3\""
     ]
    },
    {
     "ename": "ERROR",
     "evalue": "Error in library(ade4): there is no package called 'ade4'\n",
     "output_type": "error",
     "traceback": [
      "Error in library(ade4): there is no package called 'ade4'\nTraceback:\n",
      "1. library(ade4)"
     ]
    }
   ],
   "source": [
    "library(magrittr)\n",
    "library(ade4)\n",
    "library(FactoMineR)\n",
    "library(factoextra)\n",
    "library(ggplot2)"
   ]
  },
  {
   "cell_type": "code",
   "execution_count": 2,
   "id": "f5d2c34d",
   "metadata": {
    "vscode": {
     "languageId": "r"
    }
   },
   "outputs": [],
   "source": [
    "## 1. Use Principle component analysis for the given data set and find the better prediction model for quantitative data.\n",
    "\n",
    "set.seed(2)             #sets the seed for random number generation.\n",
    "x <- 1:100              #creates a vector x with numbers from 1 to 100\n",
    "ex <- rnorm(100, 0, 30) #100 normally distributed random numbers, mean=0, sd=30\n",
    "ey <- rnorm(100, 0, 30) # 100 normally distributed random numbers, mean=0, sd=30\n",
    "y <- 30 + 2 * x         #sets y to be a vector that is a linear function of x\n",
    "x_obs <- x + ex         #adds \"noise\" to x\n",
    "y_obs <- y + ey         #adds \"noise\" to y"
   ]
  },
  {
   "cell_type": "code",
   "execution_count": 3,
   "id": "79712dc6",
   "metadata": {
    "vscode": {
     "languageId": "r"
    }
   },
   "outputs": [
    {
     "data": {
      "text/plain": [
       "     x_obs            y_obs       \n",
       " Min.   :-53.33   Min.   : 14.13  \n",
       " 1st Qu.: 21.44   1st Qu.: 97.22  \n",
       " Median : 44.37   Median :134.91  \n",
       " Mean   : 49.58   Mean   :131.88  \n",
       " 3rd Qu.: 77.91   3rd Qu.:174.29  \n",
       " Max.   :155.78   Max.   :252.63  "
      ]
     },
     "metadata": {},
     "output_type": "display_data"
    },
    {
     "data": {
      "text/html": [
       "<ol class=list-inline>\n",
       "\t<li>4110.44977139521</li>\n",
       "\t<li>1189.45014068778</li>\n",
       "</ol>\n"
      ],
      "text/latex": [
       "\\begin{enumerate*}\n",
       "\\item 4110.44977139521\n",
       "\\item 1189.45014068778\n",
       "\\end{enumerate*}\n"
      ],
      "text/markdown": [
       "1. 4110.44977139521\n",
       "2. 1189.45014068778\n",
       "\n",
       "\n"
      ],
      "text/plain": [
       "[1] 4110.45 1189.45"
      ]
     },
     "metadata": {},
     "output_type": "display_data"
    },
    {
     "data": {
      "text/plain": [
       "eigen() decomposition\n",
       "$values\n",
       "[1] 4110.45 1189.45\n",
       "\n",
       "$vectors\n",
       "          [,1]       [,2]\n",
       "[1,] 0.4527354 -0.8916449\n",
       "[2,] 0.8916449  0.4527354\n"
      ]
     },
     "metadata": {},
     "output_type": "display_data"
    },
    {
     "data": {
      "image/png": "[encoded data removed]",
      "text/plain": [
       "Plot with title \"Histogram of P$y_obs\""
      ]
     },
     "metadata": {},
     "output_type": "display_data"
    }
   ],
   "source": [
    "# Bind both vectors in a matrix of toy data called P\n",
    "P <- data.frame(x_obs=x_obs,y_obs=y_obs) #places points in matrix\n",
    "summary(P)\n",
    "\n",
    "par(mfrow=c(1,2))\n",
    "hist(P$x_obs)\n",
    "hist(P$y_obs)\n",
    "\n",
    "Mx<- scale(P, center=TRUE, scale=FALSE)\n",
    "(svd(Mx)$d / sqrt(max(1, c(dim(Mx)- 1))))^2\n",
    "\n",
    "MCov <- cov(Mx) \n",
    "eigen(MCov)\n",
    "\n",
    "eigenvalues <-eigen(MCov)$values\n",
    "eigenVectors<-eigen(MCov)$vectors\n",
    "\n",
    "\n"
   ]
  },
  {
   "cell_type": "code",
   "execution_count": 4,
   "id": "4c3f728b",
   "metadata": {
    "vscode": {
     "languageId": "r"
    }
   },
   "outputs": [
    {
     "data": {
      "text/plain": [
       "Standard deviations (1, .., p=2):\n",
       "[1] 64.11279 34.48841\n",
       "\n",
       "Rotation (n x k) = (2 x 2):\n",
       "            PC1        PC2\n",
       "x_obs 0.4527354 -0.8916449\n",
       "y_obs 0.8916449  0.4527354"
      ]
     },
     "metadata": {},
     "output_type": "display_data"
    }
   ],
   "source": [
    "prcomp(P)"
   ]
  },
  {
   "cell_type": "code",
   "execution_count": 5,
   "id": "952dc812",
   "metadata": {
    "vscode": {
     "languageId": "r"
    }
   },
   "outputs": [
    {
     "data": {
      "text/html": [
       "<ol class=list-inline>\n",
       "\t<li>4110.44977139521</li>\n",
       "\t<li>1189.45014068778</li>\n",
       "</ol>\n"
      ],
      "text/latex": [
       "\\begin{enumerate*}\n",
       "\\item 4110.44977139521\n",
       "\\item 1189.45014068778\n",
       "\\end{enumerate*}\n"
      ],
      "text/markdown": [
       "1. 4110.44977139521\n",
       "2. 1189.45014068778\n",
       "\n",
       "\n"
      ],
      "text/plain": [
       "[1] 4110.45 1189.45"
      ]
     },
     "metadata": {},
     "output_type": "display_data"
    }
   ],
   "source": [
    "prcomp(P)$sdev^2"
   ]
  },
  {
   "cell_type": "code",
   "execution_count": 6,
   "id": "163f53b1",
   "metadata": {
    "vscode": {
     "languageId": "r"
    }
   },
   "outputs": [
    {
     "data": {
      "text/html": [
       "<dl class=dl-horizontal>\n",
       "\t<dt>Comp.1</dt>\n",
       "\t\t<dd>4069.34527368126</dd>\n",
       "\t<dt>Comp.2</dt>\n",
       "\t\t<dd>1177.5556392809</dd>\n",
       "</dl>\n"
      ],
      "text/latex": [
       "\\begin{description*}\n",
       "\\item[Comp.1] 4069.34527368126\n",
       "\\item[Comp.2] 1177.5556392809\n",
       "\\end{description*}\n"
      ],
      "text/markdown": [
       "Comp.1\n",
       ":   4069.34527368126Comp.2\n",
       ":   1177.5556392809\n",
       "\n"
      ],
      "text/plain": [
       "  Comp.1   Comp.2 \n",
       "4069.345 1177.556 "
      ]
     },
     "metadata": {},
     "output_type": "display_data"
    }
   ],
   "source": [
    "princomp(P)$sdev^2"
   ]
  },
  {
   "cell_type": "code",
   "execution_count": 7,
   "id": "8a72f2a3",
   "metadata": {
    "vscode": {
     "languageId": "r"
    }
   },
   "outputs": [
    {
     "data": {
      "text/html": [
       "<table>\n",
       "<thead><tr><th></th><th scope=col>Murder</th><th scope=col>Assault</th><th scope=col>UrbanPop</th><th scope=col>Rape</th></tr></thead>\n",
       "<tbody>\n",
       "\t<tr><th scope=row>Alabama</th><td>13.2</td><td>236 </td><td>58  </td><td>21.2</td></tr>\n",
       "\t<tr><th scope=row>Alaska</th><td>10.0</td><td>263 </td><td>48  </td><td>44.5</td></tr>\n",
       "\t<tr><th scope=row>Arizona</th><td> 8.1</td><td>294 </td><td>80  </td><td>31.0</td></tr>\n",
       "\t<tr><th scope=row>Arkansas</th><td> 8.8</td><td>190 </td><td>50  </td><td>19.5</td></tr>\n",
       "\t<tr><th scope=row>California</th><td> 9.0</td><td>276 </td><td>91  </td><td>40.6</td></tr>\n",
       "</tbody>\n",
       "</table>\n"
      ],
      "text/latex": [
       "\\begin{tabular}{r|llll}\n",
       "  & Murder & Assault & UrbanPop & Rape\\\\\n",
       "\\hline\n",
       "\tAlabama & 13.2 & 236  & 58   & 21.2\\\\\n",
       "\tAlaska & 10.0 & 263  & 48   & 44.5\\\\\n",
       "\tArizona &  8.1 & 294  & 80   & 31.0\\\\\n",
       "\tArkansas &  8.8 & 190  & 50   & 19.5\\\\\n",
       "\tCalifornia &  9.0 & 276  & 91   & 40.6\\\\\n",
       "\\end{tabular}\n"
      ],
      "text/markdown": [
       "\n",
       "| <!--/--> | Murder | Assault | UrbanPop | Rape |\n",
       "|---|---|---|---|---|\n",
       "| Alabama | 13.2 | 236  | 58   | 21.2 |\n",
       "| Alaska | 10.0 | 263  | 48   | 44.5 |\n",
       "| Arizona |  8.1 | 294  | 80   | 31.0 |\n",
       "| Arkansas |  8.8 | 190  | 50   | 19.5 |\n",
       "| California |  9.0 | 276  | 91   | 40.6 |\n",
       "\n"
      ],
      "text/plain": [
       "           Murder Assault UrbanPop Rape\n",
       "Alabama    13.2   236     58       21.2\n",
       "Alaska     10.0   263     48       44.5\n",
       "Arizona     8.1   294     80       31.0\n",
       "Arkansas    8.8   190     50       19.5\n",
       "California  9.0   276     91       40.6"
      ]
     },
     "metadata": {},
     "output_type": "display_data"
    }
   ],
   "source": [
    "## 2. For the given data, based on the scree plot, find out the number of principle components and in principle component analysis.\n",
    "\n",
    "data(\"USArrests\")\n",
    "head(USArrests, 5)\n",
    "results <- prcomp(USArrests, scale = TRUE)\n",
    "var_explained = results$sdev^2 / sum(results$sdev^2)"
   ]
  },
  {
   "cell_type": "code",
   "execution_count": 8,
   "id": "2277ba75",
   "metadata": {
    "vscode": {
     "languageId": "r"
    }
   },
   "outputs": [
    {
     "name": "stdout",
     "output_type": "stream",
     "text": [
      "\n",
      "  There is a binary version available but the source version is later:\n",
      "        binary source needs_compilation\n",
      "ggplot2  3.3.3  3.3.5             FALSE\n",
      "\n"
     ]
    },
    {
     "name": "stderr",
     "output_type": "stream",
     "text": [
      "installing the source package 'ggplot2'\n",
      "\n"
     ]
    },
    {
     "name": "stdout",
     "output_type": "stream",
     "text": [
      "[1] 0.62006039 0.24744129 0.08914080 0.04335752\n"
     ]
    },
    {
     "data": {
      "image/png": "[encoded data removed]",
      "text/plain": [
       "plot without title"
      ]
     },
     "metadata": {},
     "output_type": "display_data"
    }
   ],
   "source": [
    "install.packages('ggplot2')\n",
    "library(ggplot2)\n",
    "\n",
    "qplot(c(1:4), var_explained) + \n",
    "  geom_line() + \n",
    "  xlab(\"Principal Component\") + \n",
    "  ylab(\"Variance Explained\") +\n",
    "  ggtitle(\"Scree Plot\") +\n",
    "  ylim(0, 1)\n",
    "\n",
    "print(var_explained)"
   ]
  },
  {
   "cell_type": "code",
   "execution_count": 9,
   "id": "4041edb8",
   "metadata": {
    "vscode": {
     "languageId": "r"
    }
   },
   "outputs": [
    {
     "name": "stdout",
     "output_type": "stream",
     "text": [
      "'data.frame':\t150 obs. of  5 variables:\n",
      " $ Sepal.Length: num  5.1 4.9 4.7 4.6 5 5.4 4.6 5 4.4 4.9 ...\n",
      " $ Sepal.Width : num  3.5 3 3.2 3.1 3.6 3.9 3.4 3.4 2.9 3.1 ...\n",
      " $ Petal.Length: num  1.4 1.4 1.3 1.5 1.4 1.7 1.4 1.5 1.4 1.5 ...\n",
      " $ Petal.Width : num  0.2 0.2 0.2 0.2 0.2 0.4 0.3 0.2 0.2 0.1 ...\n",
      " $ Species     : Factor w/ 3 levels \"setosa\",\"versicolor\",..: 1 1 1 1 1 1 1 1 1 1 ...\n"
     ]
    },
    {
     "data": {
      "text/plain": [
       "  Sepal.Length    Sepal.Width     Petal.Length    Petal.Width   \n",
       " Min.   :4.300   Min.   :2.000   Min.   :1.000   Min.   :0.100  \n",
       " 1st Qu.:5.100   1st Qu.:2.800   1st Qu.:1.600   1st Qu.:0.300  \n",
       " Median :5.800   Median :3.000   Median :4.350   Median :1.300  \n",
       " Mean   :5.843   Mean   :3.057   Mean   :3.758   Mean   :1.199  \n",
       " 3rd Qu.:6.400   3rd Qu.:3.300   3rd Qu.:5.100   3rd Qu.:1.800  \n",
       " Max.   :7.900   Max.   :4.400   Max.   :6.900   Max.   :2.500  \n",
       "       Species  \n",
       " setosa    :50  \n",
       " versicolor:50  \n",
       " virginica :50  \n",
       "                \n",
       "                \n",
       "                "
      ]
     },
     "metadata": {},
     "output_type": "display_data"
    }
   ],
   "source": [
    "#The first principal component explains 62.01% of the total variation in the dataset. The second principal component explains 24.74% of the total variation in the dataset. The third principal component explains 8.91% of the total variation in the dataset. The fourth principal component explains 4.34% of the total variation in the dataset. Notice that all of the percentages sum to 100%.\n",
    "\n",
    "data(\"iris\")\n",
    "str(iris)\n",
    "summary(iris)"
   ]
  },
  {
   "cell_type": "code",
   "execution_count": 10,
   "id": "2726569d",
   "metadata": {
    "vscode": {
     "languageId": "r"
    }
   },
   "outputs": [],
   "source": [
    "set.seed(111)\n",
    "ind <- sample(2, nrow(iris),\n",
    "              replace = TRUE,\n",
    "              prob = c(0.8, 0.2))\n",
    "training <- iris[ind==1,]\n",
    "testing <- iris[ind==2,]"
   ]
  },
  {
   "cell_type": "code",
   "execution_count": 15,
   "id": "c71a0800",
   "metadata": {
    "vscode": {
     "languageId": "r"
    }
   },
   "outputs": [
    {
     "name": "stderr",
     "output_type": "stream",
     "text": [
      "\n",
      "Attaching package: 'psych'\n",
      "\n",
      "The following objects are masked from 'package:ggplot2':\n",
      "\n",
      "    %+%, alpha\n",
      "\n"
     ]
    },
    {
     "data": {
      "image/png": "[encoded data removed]",
      "text/plain": [
       "plot without title"
      ]
     },
     "metadata": {},
     "output_type": "display_data"
    }
   ],
   "source": [
    "library(psych)\n",
    "pairs.panels(training[,-5],\n",
    "             gap = 0,\n",
    "             bg = c(\"red\", \"yellow\", \"blue\")[training$Species],\n",
    "             pch=21)"
   ]
  },
  {
   "cell_type": "code",
   "execution_count": null,
   "id": "3fd4ac38",
   "metadata": {
    "vscode": {
     "languageId": "r"
    }
   },
   "outputs": [],
   "source": []
  }
 ],
 "metadata": {
  "kernelspec": {
   "display_name": "R",
   "language": "R",
   "name": "ir"
  },
  "language_info": {
   "codemirror_mode": "r",
   "file_extension": ".r",
   "mimetype": "text/x-r-source",
   "name": "R",
   "pygments_lexer": "r",
   "version": "3.6.1"
  }
 },
 "nbformat": 4,
 "nbformat_minor": 5
}
