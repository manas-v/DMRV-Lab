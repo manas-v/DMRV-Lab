{
 "cells": [
  {
   "cell_type": "code",
   "execution_count": 1,
   "id": "9e6aba9c",
   "metadata": {},
   "outputs": [
    {
     "data": {
      "text/html": [
       "<ol class=list-inline>\n",
       "\t<li>1</li>\n",
       "\t<li>2</li>\n",
       "\t<li>3</li>\n",
       "\t<li>4</li>\n",
       "\t<li>&lt;NA&gt;</li>\n",
       "\t<li>6</li>\n",
       "\t<li>7</li>\n",
       "\t<li>&lt;NA&gt;</li>\n",
       "</ol>\n"
      ],
      "text/latex": [
       "\\begin{enumerate*}\n",
       "\\item 1\n",
       "\\item 2\n",
       "\\item 3\n",
       "\\item 4\n",
       "\\item <NA>\n",
       "\\item 6\n",
       "\\item 7\n",
       "\\item <NA>\n",
       "\\end{enumerate*}\n"
      ],
      "text/markdown": [
       "1. 1\n",
       "2. 2\n",
       "3. 3\n",
       "4. 4\n",
       "5. &lt;NA&gt;\n",
       "6. 6\n",
       "7. 7\n",
       "8. &lt;NA&gt;\n",
       "\n",
       "\n"
      ],
      "text/plain": [
       "[1]  1  2  3  4 NA  6  7 NA"
      ]
     },
     "metadata": {},
     "output_type": "display_data"
    }
   ],
   "source": [
    "x<-c(1:4,NA,6:7,NA)\n",
    "x"
   ]
  },
  {
   "cell_type": "code",
   "execution_count": 2,
   "id": "eefd9dcd",
   "metadata": {},
   "outputs": [
    {
     "data": {
      "text/html": [
       "<ol class=list-inline>\n",
       "\t<li>FALSE</li>\n",
       "\t<li>FALSE</li>\n",
       "\t<li>FALSE</li>\n",
       "\t<li>FALSE</li>\n",
       "\t<li>TRUE</li>\n",
       "\t<li>FALSE</li>\n",
       "\t<li>FALSE</li>\n",
       "\t<li>TRUE</li>\n",
       "</ol>\n"
      ],
      "text/latex": [
       "\\begin{enumerate*}\n",
       "\\item FALSE\n",
       "\\item FALSE\n",
       "\\item FALSE\n",
       "\\item FALSE\n",
       "\\item TRUE\n",
       "\\item FALSE\n",
       "\\item FALSE\n",
       "\\item TRUE\n",
       "\\end{enumerate*}\n"
      ],
      "text/markdown": [
       "1. FALSE\n",
       "2. FALSE\n",
       "3. FALSE\n",
       "4. FALSE\n",
       "5. TRUE\n",
       "6. FALSE\n",
       "7. FALSE\n",
       "8. TRUE\n",
       "\n",
       "\n"
      ],
      "text/plain": [
       "[1] FALSE FALSE FALSE FALSE  TRUE FALSE FALSE  TRUE"
      ]
     },
     "metadata": {},
     "output_type": "display_data"
    }
   ],
   "source": [
    "#test the missing values in x vector\n",
    "is.na(x)"
   ]
  },
  {
   "cell_type": "code",
   "execution_count": 3,
   "id": "39a61433",
   "metadata": {},
   "outputs": [
    {
     "data": {
      "text/html": [
       "<table>\n",
       "<thead><tr><th scope=col>col1</th><th scope=col>col2</th><th scope=col>col3</th><th scope=col>col4</th></tr></thead>\n",
       "<tbody>\n",
       "\t<tr><td>10   </td><td>I    </td><td> TRUE</td><td>1.2  </td></tr>\n",
       "\t<tr><td>11   </td><td>NA   </td><td>FALSE</td><td>2.3  </td></tr>\n",
       "\t<tr><td>12   </td><td>am   </td><td> TRUE</td><td> NA  </td></tr>\n",
       "\t<tr><td>NA   </td><td>fine </td><td>FALSE</td><td>4.3  </td></tr>\n",
       "</tbody>\n",
       "</table>\n"
      ],
      "text/latex": [
       "\\begin{tabular}{r|llll}\n",
       " col1 & col2 & col3 & col4\\\\\n",
       "\\hline\n",
       "\t 10    & I     &  TRUE & 1.2  \\\\\n",
       "\t 11    & NA    & FALSE & 2.3  \\\\\n",
       "\t 12    & am    &  TRUE &  NA  \\\\\n",
       "\t NA    & fine  & FALSE & 4.3  \\\\\n",
       "\\end{tabular}\n"
      ],
      "text/markdown": [
       "\n",
       "| col1 | col2 | col3 | col4 |\n",
       "|---|---|---|---|\n",
       "| 10    | I     |  TRUE | 1.2   |\n",
       "| 11    | NA    | FALSE | 2.3   |\n",
       "| 12    | am    |  TRUE |  NA   |\n",
       "| NA    | fine  | FALSE | 4.3   |\n",
       "\n"
      ],
      "text/plain": [
       "  col1 col2 col3  col4\n",
       "1 10   I     TRUE 1.2 \n",
       "2 11   NA   FALSE 2.3 \n",
       "3 12   am    TRUE  NA \n",
       "4 NA   fine FALSE 4.3 "
      ]
     },
     "metadata": {},
     "output_type": "display_data"
    }
   ],
   "source": [
    "#data frame with missing values\n",
    "\n",
    "df<-data.frame(col1=c(10:12,NA),\n",
    "               col2=c(\"I\",NA,\"am\",\"fine\"),\n",
    "               col3=c(TRUE,FALSE,TRUE,FALSE),\n",
    "               col4=c(1.2,2.3,NA,4.3),\n",
    "               stringsAsFactors=FALSE)\n",
    "df"
   ]
  },
  {
   "cell_type": "code",
   "execution_count": 4,
   "id": "8007518b",
   "metadata": {},
   "outputs": [
    {
     "data": {
      "text/html": [
       "<table>\n",
       "<thead><tr><th scope=col>col1</th><th scope=col>col2</th><th scope=col>col3</th><th scope=col>col4</th></tr></thead>\n",
       "<tbody>\n",
       "\t<tr><td>FALSE</td><td>FALSE</td><td>FALSE</td><td>FALSE</td></tr>\n",
       "\t<tr><td>FALSE</td><td> TRUE</td><td>FALSE</td><td>FALSE</td></tr>\n",
       "\t<tr><td>FALSE</td><td>FALSE</td><td>FALSE</td><td> TRUE</td></tr>\n",
       "\t<tr><td> TRUE</td><td>FALSE</td><td>FALSE</td><td>FALSE</td></tr>\n",
       "</tbody>\n",
       "</table>\n"
      ],
      "text/latex": [
       "\\begin{tabular}{llll}\n",
       " col1 & col2 & col3 & col4\\\\\n",
       "\\hline\n",
       "\t FALSE & FALSE & FALSE & FALSE\\\\\n",
       "\t FALSE &  TRUE & FALSE & FALSE\\\\\n",
       "\t FALSE & FALSE & FALSE &  TRUE\\\\\n",
       "\t  TRUE & FALSE & FALSE & FALSE\\\\\n",
       "\\end{tabular}\n"
      ],
      "text/markdown": [
       "\n",
       "| col1 | col2 | col3 | col4 |\n",
       "|---|---|---|---|\n",
       "| FALSE | FALSE | FALSE | FALSE |\n",
       "| FALSE |  TRUE | FALSE | FALSE |\n",
       "| FALSE | FALSE | FALSE |  TRUE |\n",
       "|  TRUE | FALSE | FALSE | FALSE |\n",
       "\n"
      ],
      "text/plain": [
       "     col1  col2  col3  col4 \n",
       "[1,] FALSE FALSE FALSE FALSE\n",
       "[2,] FALSE  TRUE FALSE FALSE\n",
       "[3,] FALSE FALSE FALSE  TRUE\n",
       "[4,]  TRUE FALSE FALSE FALSE"
      ]
     },
     "metadata": {},
     "output_type": "display_data"
    }
   ],
   "source": [
    "#IDENTIFY THE MISSING VALUES IN THE DATA FRAME\n",
    "is.na(df)"
   ]
  },
  {
   "cell_type": "code",
   "execution_count": 5,
   "id": "bc4b74a9",
   "metadata": {},
   "outputs": [
    {
     "data": {
      "text/html": [
       "<ol class=list-inline>\n",
       "\t<li>5</li>\n",
       "\t<li>8</li>\n",
       "</ol>\n"
      ],
      "text/latex": [
       "\\begin{enumerate*}\n",
       "\\item 5\n",
       "\\item 8\n",
       "\\end{enumerate*}\n"
      ],
      "text/markdown": [
       "1. 5\n",
       "2. 8\n",
       "\n",
       "\n"
      ],
      "text/plain": [
       "[1] 5 8"
      ]
     },
     "metadata": {},
     "output_type": "display_data"
    }
   ],
   "source": [
    "#identify the location of NA's in the vector\n",
    "which(is.na(x))"
   ]
  },
  {
   "cell_type": "code",
   "execution_count": 7,
   "id": "b2b91c0e",
   "metadata": {},
   "outputs": [
    {
     "data": {
      "text/html": [
       "<ol class=list-inline>\n",
       "\t<li>4</li>\n",
       "\t<li>6</li>\n",
       "\t<li>15</li>\n",
       "</ol>\n"
      ],
      "text/latex": [
       "\\begin{enumerate*}\n",
       "\\item 4\n",
       "\\item 6\n",
       "\\item 15\n",
       "\\end{enumerate*}\n"
      ],
      "text/markdown": [
       "1. 4\n",
       "2. 6\n",
       "3. 15\n",
       "\n",
       "\n"
      ],
      "text/plain": [
       "[1]  4  6 15"
      ]
     },
     "metadata": {},
     "output_type": "display_data"
    }
   ],
   "source": [
    "#identify the location of NA's in the data frame\n",
    "which(is.na(df))"
   ]
  },
  {
   "cell_type": "code",
   "execution_count": 8,
   "id": "3e5fb4f5",
   "metadata": {},
   "outputs": [
    {
     "data": {
      "text/html": [
       "0"
      ],
      "text/latex": [
       "0"
      ],
      "text/markdown": [
       "0"
      ],
      "text/plain": [
       "[1] 0"
      ]
     },
     "metadata": {},
     "output_type": "display_data"
    }
   ],
   "source": [
    "#display the sum of NA's in vector\n",
    "sum(is.na(x))"
   ]
  },
  {
   "cell_type": "code",
   "execution_count": 9,
   "id": "5a402515",
   "metadata": {},
   "outputs": [
    {
     "data": {
      "text/html": [
       "3"
      ],
      "text/latex": [
       "3"
      ],
      "text/markdown": [
       "3"
      ],
      "text/plain": [
       "[1] 3"
      ]
     },
     "metadata": {},
     "output_type": "display_data"
    }
   ],
   "source": [
    "#display the sum of NA's in the data frame\n",
    "sum(is.na(df))"
   ]
  },
  {
   "cell_type": "code",
   "execution_count": 10,
   "id": "bcfad202",
   "metadata": {},
   "outputs": [
    {
     "data": {
      "text/html": [
       "<dl class=dl-horizontal>\n",
       "\t<dt>col1</dt>\n",
       "\t\t<dd>1</dd>\n",
       "\t<dt>col2</dt>\n",
       "\t\t<dd>1</dd>\n",
       "\t<dt>col3</dt>\n",
       "\t\t<dd>0</dd>\n",
       "\t<dt>col4</dt>\n",
       "\t\t<dd>1</dd>\n",
       "</dl>\n"
      ],
      "text/latex": [
       "\\begin{description*}\n",
       "\\item[col1] 1\n",
       "\\item[col2] 1\n",
       "\\item[col3] 0\n",
       "\\item[col4] 1\n",
       "\\end{description*}\n"
      ],
      "text/markdown": [
       "col1\n",
       ":   1col2\n",
       ":   1col3\n",
       ":   0col4\n",
       ":   1\n",
       "\n"
      ],
      "text/plain": [
       "col1 col2 col3 col4 \n",
       "   1    1    0    1 "
      ]
     },
     "metadata": {},
     "output_type": "display_data"
    }
   ],
   "source": [
    "#display the count of NA's in the each column of data frame\n",
    "colSums(is.na(df))"
   ]
  },
  {
   "cell_type": "code",
   "execution_count": 11,
   "id": "6057b352",
   "metadata": {},
   "outputs": [
    {
     "data": {
      "text/html": [
       "<ol class=list-inline>\n",
       "\t<li>1</li>\n",
       "\t<li>2</li>\n",
       "\t<li>3</li>\n",
       "\t<li>4</li>\n",
       "\t<li>3.83333333333333</li>\n",
       "\t<li>6</li>\n",
       "\t<li>7</li>\n",
       "\t<li>3.83333333333333</li>\n",
       "</ol>\n"
      ],
      "text/latex": [
       "\\begin{enumerate*}\n",
       "\\item 1\n",
       "\\item 2\n",
       "\\item 3\n",
       "\\item 4\n",
       "\\item 3.83333333333333\n",
       "\\item 6\n",
       "\\item 7\n",
       "\\item 3.83333333333333\n",
       "\\end{enumerate*}\n"
      ],
      "text/markdown": [
       "1. 1\n",
       "2. 2\n",
       "3. 3\n",
       "4. 4\n",
       "5. 3.83333333333333\n",
       "6. 6\n",
       "7. 7\n",
       "8. 3.83333333333333\n",
       "\n",
       "\n"
      ],
      "text/plain": [
       "[1] 1.000000 2.000000 3.000000 4.000000 3.833333 6.000000 7.000000 3.833333"
      ]
     },
     "metadata": {},
     "output_type": "display_data"
    },
    {
     "data": {
      "text/html": [
       "3.83333333333333"
      ],
      "text/latex": [
       "3.83333333333333"
      ],
      "text/markdown": [
       "3.83333333333333"
      ],
      "text/plain": [
       "[1] 3.833333"
      ]
     },
     "metadata": {},
     "output_type": "display_data"
    },
    {
     "data": {
      "text/html": [
       "3.83333333333333"
      ],
      "text/latex": [
       "3.83333333333333"
      ],
      "text/markdown": [
       "3.83333333333333"
      ],
      "text/plain": [
       "[1] 3.833333"
      ]
     },
     "metadata": {},
     "output_type": "display_data"
    }
   ],
   "source": [
    "#in two ways missing values are coded i.e., NA and 99\n",
    "#recode missing values with mean\n",
    "#before recode x is\n",
    "x\n",
    "mean(x)\n",
    "mean(x,na.rm=TRUE)\n",
    "x[is.na(x)]<-mean(x,na.rm=TRUE)\n"
   ]
  },
  {
   "cell_type": "code",
   "execution_count": 12,
   "id": "72e83bec",
   "metadata": {},
   "outputs": [
    {
     "data": {
      "text/html": [
       "<ol class=list-inline>\n",
       "\t<li>1</li>\n",
       "\t<li>2</li>\n",
       "\t<li>3</li>\n",
       "\t<li>4</li>\n",
       "\t<li>3.83333333333333</li>\n",
       "\t<li>6</li>\n",
       "\t<li>7</li>\n",
       "\t<li>3.83333333333333</li>\n",
       "</ol>\n"
      ],
      "text/latex": [
       "\\begin{enumerate*}\n",
       "\\item 1\n",
       "\\item 2\n",
       "\\item 3\n",
       "\\item 4\n",
       "\\item 3.83333333333333\n",
       "\\item 6\n",
       "\\item 7\n",
       "\\item 3.83333333333333\n",
       "\\end{enumerate*}\n"
      ],
      "text/markdown": [
       "1. 1\n",
       "2. 2\n",
       "3. 3\n",
       "4. 4\n",
       "5. 3.83333333333333\n",
       "6. 6\n",
       "7. 7\n",
       "8. 3.83333333333333\n",
       "\n",
       "\n"
      ],
      "text/plain": [
       "[1] 1.000000 2.000000 3.000000 4.000000 3.833333 6.000000 7.000000 3.833333"
      ]
     },
     "metadata": {},
     "output_type": "display_data"
    },
    {
     "data": {
      "text/html": [
       "<ol class=list-inline>\n",
       "\t<li>1</li>\n",
       "\t<li>2</li>\n",
       "\t<li>3</li>\n",
       "\t<li>4</li>\n",
       "\t<li>3.83</li>\n",
       "\t<li>6</li>\n",
       "\t<li>7</li>\n",
       "\t<li>3.83</li>\n",
       "</ol>\n"
      ],
      "text/latex": [
       "\\begin{enumerate*}\n",
       "\\item 1\n",
       "\\item 2\n",
       "\\item 3\n",
       "\\item 4\n",
       "\\item 3.83\n",
       "\\item 6\n",
       "\\item 7\n",
       "\\item 3.83\n",
       "\\end{enumerate*}\n"
      ],
      "text/markdown": [
       "1. 1\n",
       "2. 2\n",
       "3. 3\n",
       "4. 4\n",
       "5. 3.83\n",
       "6. 6\n",
       "7. 7\n",
       "8. 3.83\n",
       "\n",
       "\n"
      ],
      "text/plain": [
       "[1] 1.00 2.00 3.00 4.00 3.83 6.00 7.00 3.83"
      ]
     },
     "metadata": {},
     "output_type": "display_data"
    }
   ],
   "source": [
    "#after recode x is\n",
    "x\n",
    "round(x,2)"
   ]
  },
  {
   "cell_type": "code",
   "execution_count": 13,
   "id": "8e621095",
   "metadata": {},
   "outputs": [
    {
     "data": {
      "text/html": [
       "<table>\n",
       "<thead><tr><th scope=col>col1</th><th scope=col>col2</th></tr></thead>\n",
       "<tbody>\n",
       "\t<tr><td> 1  </td><td> 2.8</td></tr>\n",
       "\t<tr><td> 2  </td><td> 4.7</td></tr>\n",
       "\t<tr><td> 3  </td><td>99.0</td></tr>\n",
       "\t<tr><td>99  </td><td> 4.2</td></tr>\n",
       "</tbody>\n",
       "</table>\n"
      ],
      "text/latex": [
       "\\begin{tabular}{r|ll}\n",
       " col1 & col2\\\\\n",
       "\\hline\n",
       "\t  1   &  2.8\\\\\n",
       "\t  2   &  4.7\\\\\n",
       "\t  3   & 99.0\\\\\n",
       "\t 99   &  4.2\\\\\n",
       "\\end{tabular}\n"
      ],
      "text/markdown": [
       "\n",
       "| col1 | col2 |\n",
       "|---|---|\n",
       "|  1   |  2.8 |\n",
       "|  2   |  4.7 |\n",
       "|  3   | 99.0 |\n",
       "| 99   |  4.2 |\n",
       "\n"
      ],
      "text/plain": [
       "  col1 col2\n",
       "1  1    2.8\n",
       "2  2    4.7\n",
       "3  3   99.0\n",
       "4 99    4.2"
      ]
     },
     "metadata": {},
     "output_type": "display_data"
    }
   ],
   "source": [
    "# data frame with missing values coded as 99\n",
    "df1<-data.frame(col1=c(1:3,99),col2=c(2.8,4.7,99,4.2))\n",
    "df1\n",
    "\n"
   ]
  },
  {
   "cell_type": "code",
   "execution_count": 14,
   "id": "fc000575",
   "metadata": {},
   "outputs": [
    {
     "data": {
      "text/html": [
       "<table>\n",
       "<thead><tr><th scope=col>col1</th><th scope=col>col2</th></tr></thead>\n",
       "<tbody>\n",
       "\t<tr><td> 1 </td><td>2.8</td></tr>\n",
       "\t<tr><td> 2 </td><td>4.7</td></tr>\n",
       "\t<tr><td> 3 </td><td> NA</td></tr>\n",
       "\t<tr><td>NA </td><td>4.2</td></tr>\n",
       "</tbody>\n",
       "</table>\n"
      ],
      "text/latex": [
       "\\begin{tabular}{r|ll}\n",
       " col1 & col2\\\\\n",
       "\\hline\n",
       "\t  1  & 2.8\\\\\n",
       "\t  2  & 4.7\\\\\n",
       "\t  3  &  NA\\\\\n",
       "\t NA  & 4.2\\\\\n",
       "\\end{tabular}\n"
      ],
      "text/markdown": [
       "\n",
       "| col1 | col2 |\n",
       "|---|---|\n",
       "|  1  | 2.8 |\n",
       "|  2  | 4.7 |\n",
       "|  3  |  NA |\n",
       "| NA  | 4.2 |\n",
       "\n"
      ],
      "text/plain": [
       "  col1 col2\n",
       "1  1   2.8 \n",
       "2  2   4.7 \n",
       "3  3    NA \n",
       "4 NA   4.2 "
      ]
     },
     "metadata": {},
     "output_type": "display_data"
    }
   ],
   "source": [
    "#change 99 to NA\n",
    "df1[df1==99]<-NA\n",
    "df1\n"
   ]
  },
  {
   "cell_type": "code",
   "execution_count": 15,
   "id": "09f8a76d",
   "metadata": {},
   "outputs": [
    {
     "data": {
      "text/html": [
       "<ol class=list-inline>\n",
       "\t<li>1</li>\n",
       "\t<li>2</li>\n",
       "\t<li>3</li>\n",
       "\t<li>&lt;NA&gt;</li>\n",
       "\t<li>4</li>\n",
       "\t<li>5</li>\n",
       "</ol>\n"
      ],
      "text/latex": [
       "\\begin{enumerate*}\n",
       "\\item 1\n",
       "\\item 2\n",
       "\\item 3\n",
       "\\item <NA>\n",
       "\\item 4\n",
       "\\item 5\n",
       "\\end{enumerate*}\n"
      ],
      "text/markdown": [
       "1. 1\n",
       "2. 2\n",
       "3. 3\n",
       "4. &lt;NA&gt;\n",
       "5. 4\n",
       "6. 5\n",
       "\n",
       "\n"
      ],
      "text/plain": [
       "[1]  1  2  3 NA  4  5"
      ]
     },
     "metadata": {},
     "output_type": "display_data"
    }
   ],
   "source": [
    "#Exclude missing values\n",
    "x1<-c(1:3,NA,4:5)\n",
    "x1"
   ]
  },
  {
   "cell_type": "code",
   "execution_count": 16,
   "id": "a7c3a2bf",
   "metadata": {},
   "outputs": [
    {
     "data": {
      "text/html": [
       "&lt;NA&gt;"
      ],
      "text/latex": [
       "<NA>"
      ],
      "text/markdown": [
       "&lt;NA&gt;"
      ],
      "text/plain": [
       "[1] NA"
      ]
     },
     "metadata": {},
     "output_type": "display_data"
    }
   ],
   "source": [
    "#display mean of x1\n",
    "mean(x1)"
   ]
  },
  {
   "cell_type": "code",
   "execution_count": 17,
   "id": "6744b6f6",
   "metadata": {},
   "outputs": [
    {
     "data": {
      "text/html": [
       "3"
      ],
      "text/latex": [
       "3"
      ],
      "text/markdown": [
       "3"
      ],
      "text/plain": [
       "[1] 3"
      ]
     },
     "metadata": {},
     "output_type": "display_data"
    }
   ],
   "source": [
    "#mean of x1 after excluding NA\n",
    "mean(x1,na.rm=TRUE)"
   ]
  },
  {
   "cell_type": "code",
   "execution_count": 18,
   "id": "56d70581",
   "metadata": {},
   "outputs": [
    {
     "data": {
      "text/html": [
       "<table>\n",
       "<thead><tr><th scope=col>col1</th><th scope=col>col2</th><th scope=col>col3</th><th scope=col>col4</th></tr></thead>\n",
       "<tbody>\n",
       "\t<tr><td>10   </td><td>I    </td><td> TRUE</td><td>1.2  </td></tr>\n",
       "\t<tr><td>11   </td><td>NA   </td><td>FALSE</td><td>2.3  </td></tr>\n",
       "\t<tr><td>12   </td><td>am   </td><td> TRUE</td><td> NA  </td></tr>\n",
       "\t<tr><td>NA   </td><td>fine </td><td>FALSE</td><td>4.3  </td></tr>\n",
       "</tbody>\n",
       "</table>\n"
      ],
      "text/latex": [
       "\\begin{tabular}{r|llll}\n",
       " col1 & col2 & col3 & col4\\\\\n",
       "\\hline\n",
       "\t 10    & I     &  TRUE & 1.2  \\\\\n",
       "\t 11    & NA    & FALSE & 2.3  \\\\\n",
       "\t 12    & am    &  TRUE &  NA  \\\\\n",
       "\t NA    & fine  & FALSE & 4.3  \\\\\n",
       "\\end{tabular}\n"
      ],
      "text/markdown": [
       "\n",
       "| col1 | col2 | col3 | col4 |\n",
       "|---|---|---|---|\n",
       "| 10    | I     |  TRUE | 1.2   |\n",
       "| 11    | NA    | FALSE | 2.3   |\n",
       "| 12    | am    |  TRUE |  NA   |\n",
       "| NA    | fine  | FALSE | 4.3   |\n",
       "\n"
      ],
      "text/plain": [
       "  col1 col2 col3  col4\n",
       "1 10   I     TRUE 1.2 \n",
       "2 11   NA   FALSE 2.3 \n",
       "3 12   am    TRUE  NA \n",
       "4 NA   fine FALSE 4.3 "
      ]
     },
     "metadata": {},
     "output_type": "display_data"
    }
   ],
   "source": [
    "#DATA FRAME WITH MISSING VALUES\n",
    "df"
   ]
  },
  {
   "cell_type": "code",
   "execution_count": 19,
   "id": "54897817",
   "metadata": {},
   "outputs": [
    {
     "data": {
      "text/html": [
       "<ol class=list-inline>\n",
       "\t<li>TRUE</li>\n",
       "\t<li>FALSE</li>\n",
       "\t<li>FALSE</li>\n",
       "\t<li>FALSE</li>\n",
       "</ol>\n"
      ],
      "text/latex": [
       "\\begin{enumerate*}\n",
       "\\item TRUE\n",
       "\\item FALSE\n",
       "\\item FALSE\n",
       "\\item FALSE\n",
       "\\end{enumerate*}\n"
      ],
      "text/markdown": [
       "1. TRUE\n",
       "2. FALSE\n",
       "3. FALSE\n",
       "4. FALSE\n",
       "\n",
       "\n"
      ],
      "text/plain": [
       "[1]  TRUE FALSE FALSE FALSE"
      ]
     },
     "metadata": {},
     "output_type": "display_data"
    }
   ],
   "source": [
    "#list of complete rows of the data frame\n",
    "complete.cases(df)"
   ]
  },
  {
   "cell_type": "code",
   "execution_count": 20,
   "id": "8a852085",
   "metadata": {},
   "outputs": [
    {
     "data": {
      "text/html": [
       "<table>\n",
       "<thead><tr><th scope=col>col1</th><th scope=col>col2</th><th scope=col>col3</th><th scope=col>col4</th></tr></thead>\n",
       "<tbody>\n",
       "\t<tr><td>10  </td><td>I   </td><td>TRUE</td><td>1.2 </td></tr>\n",
       "</tbody>\n",
       "</table>\n"
      ],
      "text/latex": [
       "\\begin{tabular}{r|llll}\n",
       " col1 & col2 & col3 & col4\\\\\n",
       "\\hline\n",
       "\t 10   & I    & TRUE & 1.2 \\\\\n",
       "\\end{tabular}\n"
      ],
      "text/markdown": [
       "\n",
       "| col1 | col2 | col3 | col4 |\n",
       "|---|---|---|---|\n",
       "| 10   | I    | TRUE | 1.2  |\n",
       "\n"
      ],
      "text/plain": [
       "  col1 col2 col3 col4\n",
       "1 10   I    TRUE 1.2 "
      ]
     },
     "metadata": {},
     "output_type": "display_data"
    }
   ],
   "source": [
    "#subset with complete.cases to get complete cases\n",
    "df[complete.cases(df),]"
   ]
  },
  {
   "cell_type": "code",
   "execution_count": 21,
   "id": "d80a38e8",
   "metadata": {},
   "outputs": [
    {
     "data": {
      "text/html": [
       "<table>\n",
       "<thead><tr><th></th><th scope=col>col1</th><th scope=col>col2</th><th scope=col>col3</th><th scope=col>col4</th></tr></thead>\n",
       "<tbody>\n",
       "\t<tr><th scope=row>2</th><td>11   </td><td>NA   </td><td>FALSE</td><td>2.3  </td></tr>\n",
       "\t<tr><th scope=row>3</th><td>12   </td><td>am   </td><td> TRUE</td><td> NA  </td></tr>\n",
       "\t<tr><th scope=row>4</th><td>NA   </td><td>fine </td><td>FALSE</td><td>4.3  </td></tr>\n",
       "</tbody>\n",
       "</table>\n"
      ],
      "text/latex": [
       "\\begin{tabular}{r|llll}\n",
       "  & col1 & col2 & col3 & col4\\\\\n",
       "\\hline\n",
       "\t2 & 11    & NA    & FALSE & 2.3  \\\\\n",
       "\t3 & 12    & am    &  TRUE &  NA  \\\\\n",
       "\t4 & NA    & fine  & FALSE & 4.3  \\\\\n",
       "\\end{tabular}\n"
      ],
      "text/markdown": [
       "\n",
       "| <!--/--> | col1 | col2 | col3 | col4 |\n",
       "|---|---|---|---|---|\n",
       "| 2 | 11    | NA    | FALSE | 2.3   |\n",
       "| 3 | 12    | am    |  TRUE |  NA   |\n",
       "| 4 | NA    | fine  | FALSE | 4.3   |\n",
       "\n"
      ],
      "text/plain": [
       "  col1 col2 col3  col4\n",
       "2 11   NA   FALSE 2.3 \n",
       "3 12   am    TRUE  NA \n",
       "4 NA   fine FALSE 4.3 "
      ]
     },
     "metadata": {},
     "output_type": "display_data"
    }
   ],
   "source": [
    "#subset with ! to get incomplete cases\n",
    "df[!complete.cases(df),]"
   ]
  },
  {
   "cell_type": "code",
   "execution_count": 22,
   "id": "bb9826f1",
   "metadata": {},
   "outputs": [
    {
     "data": {
      "text/html": [
       "<table>\n",
       "<thead><tr><th scope=col>col1</th><th scope=col>col2</th><th scope=col>col3</th><th scope=col>col4</th></tr></thead>\n",
       "<tbody>\n",
       "\t<tr><td>10  </td><td>I   </td><td>TRUE</td><td>1.2 </td></tr>\n",
       "</tbody>\n",
       "</table>\n"
      ],
      "text/latex": [
       "\\begin{tabular}{r|llll}\n",
       " col1 & col2 & col3 & col4\\\\\n",
       "\\hline\n",
       "\t 10   & I    & TRUE & 1.2 \\\\\n",
       "\\end{tabular}\n"
      ],
      "text/markdown": [
       "\n",
       "| col1 | col2 | col3 | col4 |\n",
       "|---|---|---|---|\n",
       "| 10   | I    | TRUE | 1.2  |\n",
       "\n"
      ],
      "text/plain": [
       "  col1 col2 col3 col4\n",
       "1 10   I    TRUE 1.2 "
      ]
     },
     "metadata": {},
     "output_type": "display_data"
    }
   ],
   "source": [
    "#short hand way to get the complete cases of data frame by omitting \n",
    "na.omit(df)"
   ]
  },
  {
   "cell_type": "code",
   "execution_count": null,
   "id": "949b5c63",
   "metadata": {},
   "outputs": [],
   "source": []
  }
 ],
 "metadata": {
  "kernelspec": {
   "display_name": "R",
   "language": "R",
   "name": "ir"
  },
  "language_info": {
   "codemirror_mode": "r",
   "file_extension": ".r",
   "mimetype": "text/x-r-source",
   "name": "R",
   "pygments_lexer": "r",
   "version": "3.6.1"
  }
 },
 "nbformat": 4,
 "nbformat_minor": 5
}
