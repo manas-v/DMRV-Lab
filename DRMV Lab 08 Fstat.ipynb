{
 "cells": [
  {
   "cell_type": "code",
   "execution_count": 1,
   "id": "ee95d3b0",
   "metadata": {
    "vscode": {
     "languageId": "r"
    }
   },
   "outputs": [
    {
     "ename": "ERROR",
     "evalue": "Error in library(\"car\"): there is no package called 'car'\n",
     "output_type": "error",
     "traceback": [
      "Error in library(\"car\"): there is no package called 'car'\nTraceback:\n",
      "1. library(\"car\")"
     ]
    }
   ],
   "source": [
    "library(\"car\")\n",
    "data1 = Prestige"
   ]
  },
  {
   "cell_type": "code",
   "execution_count": 2,
   "id": "f02fbc2f",
   "metadata": {
    "vscode": {
     "languageId": "r"
    }
   },
   "outputs": [
    {
     "ename": "ERROR",
     "evalue": "Error in is.data.frame(data): object 'Prestige' not found\n",
     "output_type": "error",
     "traceback": [
      "Error in is.data.frame(data): object 'Prestige' not found\nTraceback:\n",
      "1. lm(prestige ~ education + log2(income) + women, data = Prestige)",
      "2. eval(mf, parent.frame())",
      "3. eval(mf, parent.frame())",
      "4. stats::model.frame(formula = prestige ~ education + log2(income) + \n .     women, data = Prestige, drop.unused.levels = TRUE)",
      "5. model.frame.default(formula = prestige ~ education + log2(income) + \n .     women, data = Prestige, drop.unused.levels = TRUE)",
      "6. is.data.frame(data)"
     ]
    }
   ],
   "source": [
    "reg1 <- lm(prestige ~ education + log2(income) + women, data = Prestige)\n",
    "summary(reg1)"
   ]
  },
  {
   "cell_type": "code",
   "execution_count": 3,
   "id": "b6066365",
   "metadata": {
    "vscode": {
     "languageId": "r"
    }
   },
   "outputs": [
    {
     "ename": "ERROR",
     "evalue": "Error in is.data.frame(data): object 'Prestige' not found\n",
     "output_type": "error",
     "traceback": [
      "Error in is.data.frame(data): object 'Prestige' not found\nTraceback:\n",
      "1. lm(prestige ~ education + log2(income) + type, data = Prestige)",
      "2. eval(mf, parent.frame())",
      "3. eval(mf, parent.frame())",
      "4. stats::model.frame(formula = prestige ~ education + log2(income) + \n .     type, data = Prestige, drop.unused.levels = TRUE)",
      "5. model.frame.default(formula = prestige ~ education + log2(income) + \n .     type, data = Prestige, drop.unused.levels = TRUE)",
      "6. is.data.frame(data)"
     ]
    }
   ],
   "source": [
    "## Dummy regression with no interactions\n",
    "\n",
    "reg2 <- lm(prestige ~ education + log2(income) +\n",
    "             type, data = Prestige)\n",
    "\n",
    "summary(reg2)"
   ]
  },
  {
   "cell_type": "code",
   "execution_count": 4,
   "id": "f29574f0",
   "metadata": {
    "vscode": {
     "languageId": "r"
    }
   },
   "outputs": [
    {
     "ename": "ERROR",
     "evalue": "Error in with(Prestige, factor(type, levels = c(\"bc\", \"wc\", \"prof\"))): object 'Prestige' not found\n",
     "output_type": "error",
     "traceback": [
      "Error in with(Prestige, factor(type, levels = c(\"bc\", \"wc\", \"prof\"))): object 'Prestige' not found\nTraceback:\n",
      "1. with(Prestige, factor(type, levels = c(\"bc\", \"wc\", \"prof\")))"
     ]
    }
   ],
   "source": [
    "# Reordering factor variables\n",
    "Prestige$type <- with(Prestige, factor(type,levels=c(\"bc\", \"wc\", \"prof\")))"
   ]
  },
  {
   "cell_type": "code",
   "execution_count": 5,
   "id": "2c0ca88d",
   "metadata": {
    "vscode": {
     "languageId": "r"
    }
   },
   "outputs": [
    {
     "ename": "ERROR",
     "evalue": "Error in is.data.frame(data): object 'Prestige' not found\n",
     "output_type": "error",
     "traceback": [
      "Error in is.data.frame(data): object 'Prestige' not found\nTraceback:\n",
      "1. lm(prestige ~ type * (education + log2(income)), data = Prestige)",
      "2. eval(mf, parent.frame())",
      "3. eval(mf, parent.frame())",
      "4. stats::model.frame(formula = prestige ~ type * (education + log2(income)), \n .     data = Prestige, drop.unused.levels = TRUE)",
      "5. model.frame.default(formula = prestige ~ type * (education + \n .     log2(income)), data = Prestige, drop.unused.levels = TRUE)",
      "6. is.data.frame(data)"
     ]
    }
   ],
   "source": [
    "## Dummy regression with interactions\n",
    "\n",
    "reg3 <- lm(prestige ~ type*(education +\n",
    "                              log2(income)), data = Prestige)\n",
    "summary(reg3)"
   ]
  },
  {
   "cell_type": "code",
   "execution_count": 6,
   "id": "4404a75a",
   "metadata": {
    "vscode": {
     "languageId": "r"
    }
   },
   "outputs": [
    {
     "ename": "ERROR",
     "evalue": "Error in is.data.frame(data): object 'Prestige' not found\n",
     "output_type": "error",
     "traceback": [
      "Error in is.data.frame(data): object 'Prestige' not found\nTraceback:\n",
      "1. lm(prestige ~ education + log2(income) + type + log2(income):type + \n .     education:type, data = Prestige)",
      "2. eval(mf, parent.frame())",
      "3. eval(mf, parent.frame())",
      "4. stats::model.frame(formula = prestige ~ education + log2(income) + \n .     type + log2(income):type + education:type, data = Prestige, \n .     drop.unused.levels = TRUE)",
      "5. model.frame.default(formula = prestige ~ education + log2(income) + \n .     type + log2(income):type + education:type, data = Prestige, \n .     drop.unused.levels = TRUE)",
      "6. is.data.frame(data)"
     ]
    }
   ],
   "source": [
    "# Other ways to run the same model\n",
    "reg3a <- lm(prestige ~ education + log2(income) +\n",
    "              type + log2(income):type + education:type,\n",
    "            data = Prestige)\n",
    "reg3b <- lm(prestige ~ education*type +\n",
    "              log2(income)*type, data = Prestige)"
   ]
  },
  {
   "cell_type": "code",
   "execution_count": 7,
   "id": "76a551b7",
   "metadata": {
    "vscode": {
     "languageId": "r"
    }
   },
   "outputs": [
    {
     "ename": "ERROR",
     "evalue": "Error in library(car): there is no package called 'car'\n",
     "output_type": "error",
     "traceback": [
      "Error in library(car): there is no package called 'car'\nTraceback:\n",
      "1. library(car)"
     ]
    }
   ],
   "source": [
    "## Diagnostics for linear regression (residual plots)\n",
    "\n",
    "library(car)\n",
    "reg1 <- lm(prestige ~ education + income + type,\n",
    "           data = Prestige)\n",
    "residualPlots(reg1)"
   ]
  },
  {
   "cell_type": "code",
   "execution_count": 8,
   "id": "c62c351c",
   "metadata": {
    "vscode": {
     "languageId": "r"
    }
   },
   "outputs": [
    {
     "ename": "ERROR",
     "evalue": "Error in residualPlots(reg1, ~1, fitted = TRUE): could not find function \"residualPlots\"\n",
     "output_type": "error",
     "traceback": [
      "Error in residualPlots(reg1, ~1, fitted = TRUE): could not find function \"residualPlots\"\nTraceback:\n"
     ]
    }
   ],
   "source": [
    "# Using 'income' as is.\n",
    "# Variable 'income' shows some patterns.\n",
    "# Other options:\n",
    "residualPlots(reg1, ~ 1, fitted=TRUE) #Residuals vs fitted only"
   ]
  },
  {
   "cell_type": "code",
   "execution_count": 9,
   "id": "a3a31cbf",
   "metadata": {
    "vscode": {
     "languageId": "r"
    }
   },
   "outputs": [
    {
     "ename": "ERROR",
     "evalue": "Error in residualPlots(reg1, ~education, fitted = FALSE): could not find function \"residualPlots\"\n",
     "output_type": "error",
     "traceback": [
      "Error in residualPlots(reg1, ~education, fitted = FALSE): could not find function \"residualPlots\"\nTraceback:\n"
     ]
    }
   ],
   "source": [
    "residualPlots(reg1, ~ education, fitted=FALSE) # Residuals vs education only"
   ]
  },
  {
   "cell_type": "code",
   "execution_count": null,
   "id": "9d59cebd",
   "metadata": {
    "vscode": {
     "languageId": "r"
    }
   },
   "outputs": [],
   "source": []
  }
 ],
 "metadata": {
  "kernelspec": {
   "display_name": "R",
   "language": "R",
   "name": "ir"
  },
  "language_info": {
   "codemirror_mode": "r",
   "file_extension": ".r",
   "mimetype": "text/x-r-source",
   "name": "R",
   "pygments_lexer": "r",
   "version": "3.6.1"
  }
 },
 "nbformat": 4,
 "nbformat_minor": 5
}
