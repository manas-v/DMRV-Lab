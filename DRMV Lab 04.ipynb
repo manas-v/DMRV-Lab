{
 "cells": [
  {
   "cell_type": "code",
   "execution_count": 1,
   "id": "4c6da910",
   "metadata": {
    "vscode": {
     "languageId": "r"
    }
   },
   "outputs": [
    {
     "data": {
      "text/html": [
       "<ol class=list-inline>\n",
       "\t<li>32</li>\n",
       "\t<li>11</li>\n",
       "</ol>\n"
      ],
      "text/latex": [
       "\\begin{enumerate*}\n",
       "\\item 32\n",
       "\\item 11\n",
       "\\end{enumerate*}\n"
      ],
      "text/markdown": [
       "1. 32\n",
       "2. 11\n",
       "\n",
       "\n"
      ],
      "text/plain": [
       "[1] 32 11"
      ]
     },
     "metadata": {},
     "output_type": "display_data"
    },
    {
     "data": {
      "text/html": [
       "<ol class=list-inline>\n",
       "\t<li>'mpg'</li>\n",
       "\t<li>'cyl'</li>\n",
       "\t<li>'disp'</li>\n",
       "\t<li>'hp'</li>\n",
       "\t<li>'drat'</li>\n",
       "\t<li>'wt'</li>\n",
       "\t<li>'qsec'</li>\n",
       "\t<li>'vs'</li>\n",
       "\t<li>'am'</li>\n",
       "\t<li>'gear'</li>\n",
       "\t<li>'carb'</li>\n",
       "</ol>\n"
      ],
      "text/latex": [
       "\\begin{enumerate*}\n",
       "\\item 'mpg'\n",
       "\\item 'cyl'\n",
       "\\item 'disp'\n",
       "\\item 'hp'\n",
       "\\item 'drat'\n",
       "\\item 'wt'\n",
       "\\item 'qsec'\n",
       "\\item 'vs'\n",
       "\\item 'am'\n",
       "\\item 'gear'\n",
       "\\item 'carb'\n",
       "\\end{enumerate*}\n"
      ],
      "text/markdown": [
       "1. 'mpg'\n",
       "2. 'cyl'\n",
       "3. 'disp'\n",
       "4. 'hp'\n",
       "5. 'drat'\n",
       "6. 'wt'\n",
       "7. 'qsec'\n",
       "8. 'vs'\n",
       "9. 'am'\n",
       "10. 'gear'\n",
       "11. 'carb'\n",
       "\n",
       "\n"
      ],
      "text/plain": [
       " [1] \"mpg\"  \"cyl\"  \"disp\" \"hp\"   \"drat\" \"wt\"   \"qsec\" \"vs\"   \"am\"   \"gear\"\n",
       "[11] \"carb\""
      ]
     },
     "metadata": {},
     "output_type": "display_data"
    },
    {
     "data": {
      "text/plain": [
       "Importance of components:\n",
       "                          PC1    PC2     PC3     PC4     PC5     PC6     PC7\n",
       "Standard deviation     2.3782 1.4429 0.71008 0.51481 0.42797 0.35184 0.32413\n",
       "Proportion of Variance 0.6284 0.2313 0.05602 0.02945 0.02035 0.01375 0.01167\n",
       "Cumulative Proportion  0.6284 0.8598 0.91581 0.94525 0.96560 0.97936 0.99103\n",
       "                          PC8     PC9\n",
       "Standard deviation     0.2419 0.14896\n",
       "Proportion of Variance 0.0065 0.00247\n",
       "Cumulative Proportion  0.9975 1.00000"
      ]
     },
     "metadata": {},
     "output_type": "display_data"
    }
   ],
   "source": [
    "dim(mtcars)\n",
    "names(mtcars)\n",
    "mtcars.pca <- prcomp(mtcars[,c(1:7,10,11)], center = TRUE, scale. = TRUE)\n",
    "summary(mtcars.pca)"
   ]
  },
  {
   "cell_type": "code",
   "execution_count": 2,
   "id": "9468b897",
   "metadata": {
    "vscode": {
     "languageId": "r"
    }
   },
   "outputs": [
    {
     "name": "stdout",
     "output_type": "stream",
     "text": [
      "List of 5\n",
      " $ sdev    : num [1:9] 2.378 1.443 0.71 0.515 0.428 ...\n",
      " $ rotation: num [1:9, 1:9] -0.393 0.403 0.397 0.367 -0.312 ...\n",
      "  ..- attr(*, \"dimnames\")=List of 2\n",
      "  .. ..$ : chr [1:9] \"mpg\" \"cyl\" \"disp\" \"hp\" ...\n",
      "  .. ..$ : chr [1:9] \"PC1\" \"PC2\" \"PC3\" \"PC4\" ...\n",
      " $ center  : Named num [1:9] 20.09 6.19 230.72 146.69 3.6 ...\n",
      "  ..- attr(*, \"names\")= chr [1:9] \"mpg\" \"cyl\" \"disp\" \"hp\" ...\n",
      " $ scale   : Named num [1:9] 6.027 1.786 123.939 68.563 0.535 ...\n",
      "  ..- attr(*, \"names\")= chr [1:9] \"mpg\" \"cyl\" \"disp\" \"hp\" ...\n",
      " $ x       : num [1:32, 1:9] -0.664 -0.637 -2.3 -0.215 1.587 ...\n",
      "  ..- attr(*, \"dimnames\")=List of 2\n",
      "  .. ..$ : chr [1:32] \"Mazda RX4\" \"Mazda RX4 Wag\" \"Datsun 710\" \"Hornet 4 Drive\" ...\n",
      "  .. ..$ : chr [1:9] \"PC1\" \"PC2\" \"PC3\" \"PC4\" ...\n",
      " - attr(*, \"class\")= chr \"prcomp\"\n"
     ]
    }
   ],
   "source": [
    "#####second####\n",
    "#lets dispaly pca object details\n",
    "str(mtcars.pca)"
   ]
  },
  {
   "cell_type": "code",
   "execution_count": 3,
   "id": "375b2fbe",
   "metadata": {
    "vscode": {
     "languageId": "r"
    }
   },
   "outputs": [
    {
     "name": "stderr",
     "output_type": "stream",
     "text": [
      "also installing the dependencies 'utf8', 'pillar', 'pkgconfig', 'vctrs', 'askpass', 'credentials', 'sys', 'zip', 'gitcreds', 'ini', 'fastmap', 'highr', 'xfun', 'diffobj', 'fansi', 'rematch2', 'tibble', 'clipr', 'curl', 'gert', 'gh', 'glue', 'purrr', 'rappdirs', 'rprojroot', 'whisker', 'yaml', 'processx', 'R6', 'mime', 'openssl', 'cachem', 'prettyunits', 'xopen', 'brew', 'commonmark', 'knitr', 'stringi', 'stringr', 'xml2', 'cpp11', 'brio', 'magrittr', 'praise', 'ps', 'waldo', 'usethis', 'callr', 'cli', 'desc', 'ellipsis', 'fs', 'httr', 'lifecycle', 'memoise', 'pkgbuild', 'pkgload', 'rcmdcheck', 'remotes', 'rlang', 'roxygen2', 'rstudioapi', 'rversions', 'sessioninfo', 'testthat', 'withr'\n",
      "\n"
     ]
    },
    {
     "name": "stdout",
     "output_type": "stream",
     "text": [
      "\n",
      "  There are binary versions available but the source versions are later:\n",
      "            binary source needs_compilation\n",
      "utf8         1.2.1  1.2.2              TRUE\n",
      "pillar       1.6.0  1.6.4             FALSE\n",
      "credentials  1.3.0  1.3.2             FALSE\n",
      "zip          2.1.1  2.2.0              TRUE\n",
      "xfun          0.22   0.29              TRUE\n",
      "diffobj      0.3.4  0.3.5              TRUE\n",
      "fansi        0.4.2  1.0.0              TRUE\n",
      "tibble       3.1.1  3.1.6              TRUE\n",
      "curl         4.3.1  4.3.2              TRUE\n",
      "gert         1.3.0  1.5.0              TRUE\n",
      "glue         1.4.2  1.6.0              TRUE\n",
      "R6           2.5.0  2.5.1             FALSE\n",
      "mime          0.10   0.12              TRUE\n",
      "openssl      1.4.4  1.4.6              TRUE\n",
      "cachem       1.0.4  1.0.6              TRUE\n",
      "knitr         1.33   1.37             FALSE\n",
      "stringi      1.6.1  1.7.6              TRUE\n",
      "xml2         1.3.2  1.3.3              TRUE\n",
      "cpp11        0.2.7  0.4.2             FALSE\n",
      "brio         1.1.2  1.1.3              TRUE\n",
      "waldo        0.2.5  0.3.1             FALSE\n",
      "usethis      2.0.1  2.1.5             FALSE\n",
      "cli          2.5.0  3.1.0              TRUE\n",
      "desc         1.3.0  1.4.0             FALSE\n",
      "fs           1.5.0  1.5.2              TRUE\n",
      "lifecycle    1.0.0  1.0.1             FALSE\n",
      "memoise      2.0.0  2.0.1             FALSE\n",
      "pkgbuild     1.2.0  1.3.1             FALSE\n",
      "pkgload      1.2.1  1.2.4             FALSE\n",
      "rcmdcheck    1.3.3  1.4.0             FALSE\n",
      "remotes      2.3.0  2.4.2             FALSE\n",
      "rlang       0.4.11 0.4.12              TRUE\n",
      "roxygen2     7.1.1  7.1.2              TRUE\n",
      "rversions    2.0.2  2.1.1             FALSE\n",
      "sessioninfo  1.1.1  1.2.2             FALSE\n",
      "testthat     3.0.2  3.1.1              TRUE\n",
      "withr        2.4.2  2.4.3             FALSE\n",
      "devtools     2.4.1  2.4.3             FALSE\n",
      "\n",
      "  Binaries will be installed\n",
      "package 'utf8' successfully unpacked and MD5 sums checked\n",
      "package 'pkgconfig' successfully unpacked and MD5 sums checked\n",
      "package 'vctrs' successfully unpacked and MD5 sums checked\n",
      "package 'askpass' successfully unpacked and MD5 sums checked\n",
      "package 'sys' successfully unpacked and MD5 sums checked\n",
      "package 'zip' successfully unpacked and MD5 sums checked\n",
      "package 'gitcreds' successfully unpacked and MD5 sums checked\n",
      "package 'ini' successfully unpacked and MD5 sums checked\n",
      "package 'fastmap' successfully unpacked and MD5 sums checked\n",
      "package 'highr' successfully unpacked and MD5 sums checked\n",
      "package 'xfun' successfully unpacked and MD5 sums checked\n",
      "package 'diffobj' successfully unpacked and MD5 sums checked\n",
      "package 'fansi' successfully unpacked and MD5 sums checked\n",
      "package 'rematch2' successfully unpacked and MD5 sums checked\n",
      "package 'tibble' successfully unpacked and MD5 sums checked\n",
      "package 'clipr' successfully unpacked and MD5 sums checked\n",
      "package 'curl' successfully unpacked and MD5 sums checked\n",
      "package 'gert' successfully unpacked and MD5 sums checked\n",
      "package 'gh' successfully unpacked and MD5 sums checked\n",
      "package 'glue' successfully unpacked and MD5 sums checked\n",
      "package 'purrr' successfully unpacked and MD5 sums checked\n",
      "package 'rappdirs' successfully unpacked and MD5 sums checked\n",
      "package 'rprojroot' successfully unpacked and MD5 sums checked\n",
      "package 'whisker' successfully unpacked and MD5 sums checked\n",
      "package 'yaml' successfully unpacked and MD5 sums checked\n",
      "package 'processx' successfully unpacked and MD5 sums checked\n",
      "package 'mime' successfully unpacked and MD5 sums checked\n",
      "package 'openssl' successfully unpacked and MD5 sums checked\n",
      "package 'cachem' successfully unpacked and MD5 sums checked\n",
      "package 'prettyunits' successfully unpacked and MD5 sums checked\n",
      "package 'xopen' successfully unpacked and MD5 sums checked\n",
      "package 'brew' successfully unpacked and MD5 sums checked\n",
      "package 'commonmark' successfully unpacked and MD5 sums checked\n",
      "package 'stringi' successfully unpacked and MD5 sums checked\n",
      "package 'stringr' successfully unpacked and MD5 sums checked\n",
      "package 'xml2' successfully unpacked and MD5 sums checked\n",
      "package 'brio' successfully unpacked and MD5 sums checked\n",
      "package 'magrittr' successfully unpacked and MD5 sums checked\n",
      "package 'praise' successfully unpacked and MD5 sums checked\n",
      "package 'ps' successfully unpacked and MD5 sums checked\n",
      "package 'callr' successfully unpacked and MD5 sums checked\n",
      "package 'cli' successfully unpacked and MD5 sums checked\n",
      "package 'ellipsis' successfully unpacked and MD5 sums checked\n",
      "package 'fs' successfully unpacked and MD5 sums checked\n",
      "package 'httr' successfully unpacked and MD5 sums checked\n",
      "package 'rlang' successfully unpacked and MD5 sums checked\n",
      "package 'roxygen2' successfully unpacked and MD5 sums checked\n",
      "package 'rstudioapi' successfully unpacked and MD5 sums checked\n",
      "package 'testthat' successfully unpacked and MD5 sums checked\n",
      "\n",
      "The downloaded binary packages are in\n",
      "\tC:\\Users\\manas\\AppData\\Local\\Temp\\RtmpOY9vU1\\downloaded_packages\n"
     ]
    },
    {
     "name": "stderr",
     "output_type": "stream",
     "text": [
      "installing the source packages 'pillar', 'credentials', 'R6', 'knitr', 'cpp11', 'waldo', 'usethis', 'desc', 'lifecycle', 'memoise', 'pkgbuild', 'pkgload', 'rcmdcheck', 'remotes', 'rversions', 'sessioninfo', 'withr', 'devtools'\n",
      "\n",
      "Warning message in install.packages(\"devtools\"):\n",
      "\"installation of package 'knitr' had non-zero exit status\"Warning message in install.packages(\"devtools\"):\n",
      "\"installation of package 'sessioninfo' had non-zero exit status\"Warning message in install.packages(\"devtools\"):\n",
      "\"installation of package 'rcmdcheck' had non-zero exit status\"Warning message in install.packages(\"devtools\"):\n",
      "\"installation of package 'devtools' had non-zero exit status\""
     ]
    }
   ],
   "source": [
    "install.packages(\"devtools\")"
   ]
  },
  {
   "cell_type": "code",
   "execution_count": 4,
   "id": "384590e8",
   "metadata": {
    "vscode": {
     "languageId": "r"
    }
   },
   "outputs": [
    {
     "name": "stdout",
     "output_type": "stream",
     "text": [
      "\n",
      "  There is a binary version available (and will be installed) but the\n",
      "  source version is later:\n",
      "         binary source\n",
      "devtools  2.4.1  2.4.3\n",
      "\n"
     ]
    },
    {
     "name": "stderr",
     "output_type": "stream",
     "text": [
      "also installing the dependencies 'rcmdcheck', 'sessioninfo'\n",
      "\n"
     ]
    },
    {
     "name": "stdout",
     "output_type": "stream",
     "text": [
      "package 'rcmdcheck' successfully unpacked and MD5 sums checked\n",
      "package 'sessioninfo' successfully unpacked and MD5 sums checked\n",
      "package 'devtools' successfully unpacked and MD5 sums checked\n",
      "\n",
      "The downloaded binary packages are in\n",
      "\tC:\\Users\\manas\\AppData\\Local\\Temp\\RtmpOY9vU1\\downloaded_packages\n"
     ]
    }
   ],
   "source": [
    "install.packages(\"devtools\", type = \"win.binary\")"
   ]
  },
  {
   "cell_type": "code",
   "execution_count": 5,
   "id": "2363c82f",
   "metadata": {
    "vscode": {
     "languageId": "r"
    }
   },
   "outputs": [
    {
     "name": "stderr",
     "output_type": "stream",
     "text": [
      "Warning message:\n",
      "\"package 'devtools' was built under R version 3.6.3\"Loading required package: usethis\n"
     ]
    }
   ],
   "source": [
    "#Include devtools, which is used for visualization\n",
    "\n",
    "library(devtools)"
   ]
  },
  {
   "cell_type": "code",
   "execution_count": 6,
   "id": "d1942fc6",
   "metadata": {
    "scrolled": true,
    "vscode": {
     "languageId": "r"
    }
   },
   "outputs": [
    {
     "name": "stderr",
     "output_type": "stream",
     "text": [
      "WARNING: Rtools is required to build R packages, but is not currently installed.\n",
      "\n",
      "Please download and install Rtools 3.5 from https://cran.r-project.org/bin/windows/Rtools/.\n",
      "Downloading GitHub repo vqv/ggbiplot@HEAD\n"
     ]
    },
    {
     "name": "stdout",
     "output_type": "stream",
     "text": [
      "colorspace   (NA     -> 2.0-2  ) [CRAN]\n",
      "rlang        (0.4.11 -> 0.4.12 ) [CRAN]\n",
      "glue         (1.4.2  -> 1.6.0  ) [CRAN]\n",
      "utf8         (1.2.1  -> 1.2.2  ) [CRAN]\n",
      "crayon       (1.3.4  -> 1.4.2  ) [CRAN]\n",
      "cli          (2.5.0  -> 3.1.0  ) [CRAN]\n",
      "fansi        (0.4.2  -> 1.0.0  ) [CRAN]\n",
      "viridisLite  (NA     -> 0.4.0  ) [CRAN]\n",
      "RColorBrewer (NA     -> 1.1-2  ) [CRAN]\n",
      "munsell      (NA     -> 0.5.0  ) [CRAN]\n",
      "labeling     (NA     -> 0.4.2  ) [CRAN]\n",
      "farver       (NA     -> 2.1.0  ) [CRAN]\n",
      "lattice      (NA     -> 0.20-45) [CRAN]\n",
      "Matrix       (NA     -> 1.4-0  ) [CRAN]\n",
      "nlme         (NA     -> 3.1-153) [CRAN]\n",
      "Rcpp         (1.0.1  -> 1.0.7  ) [CRAN]\n",
      "tibble       (3.1.1  -> 3.1.6  ) [CRAN]\n",
      "scales       (NA     -> 1.1.1  ) [CRAN]\n",
      "mgcv         (NA     -> 1.8-38 ) [CRAN]\n",
      "MASS         (NA     -> 7.3-54 ) [CRAN]\n",
      "isoband      (NA     -> 0.2.5  ) [CRAN]\n",
      "gtable       (NA     -> 0.3.0  ) [CRAN]\n",
      "digest       (0.6.18 -> 0.6.29 ) [CRAN]\n",
      "plyr         (NA     -> 1.8.6  ) [CRAN]\n",
      "ggplot2      (NA     -> 3.3.5  ) [CRAN]\n"
     ]
    },
    {
     "name": "stderr",
     "output_type": "stream",
     "text": [
      "Installing 25 packages: colorspace, rlang, glue, utf8, crayon, cli, fansi, viridisLite, RColorBrewer, munsell, labeling, farver, lattice, Matrix, nlme, Rcpp, tibble, scales, mgcv, MASS, isoband, gtable, digest, plyr, ggplot2\n"
     ]
    },
    {
     "name": "stdout",
     "output_type": "stream",
     "text": [
      "\n",
      "  There are binary versions available but the source versions are later:\n",
      "            binary  source needs_compilation\n",
      "colorspace   2.0-1   2.0-2              TRUE\n",
      "rlang       0.4.11  0.4.12              TRUE\n",
      "glue         1.4.2   1.6.0              TRUE\n",
      "utf8         1.2.1   1.2.2              TRUE\n",
      "crayon       1.4.1   1.4.2             FALSE\n",
      "cli          2.5.0   3.1.0              TRUE\n",
      "fansi        0.4.2   1.0.0              TRUE\n",
      "lattice    0.20-44 0.20-45              TRUE\n",
      "Matrix       1.3-3   1.4-0              TRUE\n",
      "nlme       3.1-152 3.1-153              TRUE\n",
      "Rcpp         1.0.6   1.0.7              TRUE\n",
      "tibble       3.1.1   3.1.6              TRUE\n",
      "mgcv        1.8-35  1.8-38              TRUE\n",
      "isoband      0.2.4   0.2.5              TRUE\n",
      "digest      0.6.27  0.6.29              TRUE\n",
      "ggplot2      3.3.3   3.3.5             FALSE\n",
      "\n",
      "  Binaries will be installed\n",
      "package 'colorspace' successfully unpacked and MD5 sums checked\n",
      "package 'rlang' successfully unpacked and MD5 sums checked\n"
     ]
    },
    {
     "name": "stderr",
     "output_type": "stream",
     "text": [
      "Warning message:\n",
      "\"cannot remove prior installation of package 'rlang'\"Warning message in file.copy(savedcopy, lib, recursive = TRUE):\n",
      "\"problem copying C:\\Users\\manas\\anaconda3\\Lib\\R\\library\\00LOCK\\rlang\\libs\\x64\\rlang.dll to C:\\Users\\manas\\anaconda3\\Lib\\R\\library\\rlang\\libs\\x64\\rlang.dll: Permission denied\"Warning message:\n",
      "\"restored 'rlang'\""
     ]
    },
    {
     "name": "stdout",
     "output_type": "stream",
     "text": [
      "package 'glue' successfully unpacked and MD5 sums checked\n"
     ]
    },
    {
     "name": "stderr",
     "output_type": "stream",
     "text": [
      "Warning message:\n",
      "\"cannot remove prior installation of package 'glue'\"Warning message in file.copy(savedcopy, lib, recursive = TRUE):\n",
      "\"problem copying C:\\Users\\manas\\anaconda3\\Lib\\R\\library\\00LOCK\\glue\\libs\\x64\\glue.dll to C:\\Users\\manas\\anaconda3\\Lib\\R\\library\\glue\\libs\\x64\\glue.dll: Permission denied\"Warning message:\n",
      "\"restored 'glue'\""
     ]
    },
    {
     "name": "stdout",
     "output_type": "stream",
     "text": [
      "package 'utf8' successfully unpacked and MD5 sums checked\n",
      "package 'cli' successfully unpacked and MD5 sums checked\n",
      "package 'fansi' successfully unpacked and MD5 sums checked\n",
      "package 'viridisLite' successfully unpacked and MD5 sums checked\n",
      "package 'RColorBrewer' successfully unpacked and MD5 sums checked\n",
      "package 'munsell' successfully unpacked and MD5 sums checked\n",
      "package 'labeling' successfully unpacked and MD5 sums checked\n",
      "package 'farver' successfully unpacked and MD5 sums checked\n",
      "package 'lattice' successfully unpacked and MD5 sums checked\n",
      "package 'Matrix' successfully unpacked and MD5 sums checked\n",
      "package 'nlme' successfully unpacked and MD5 sums checked\n",
      "package 'Rcpp' successfully unpacked and MD5 sums checked\n",
      "package 'tibble' successfully unpacked and MD5 sums checked\n",
      "package 'scales' successfully unpacked and MD5 sums checked\n",
      "package 'mgcv' successfully unpacked and MD5 sums checked\n",
      "package 'MASS' successfully unpacked and MD5 sums checked\n",
      "package 'isoband' successfully unpacked and MD5 sums checked\n",
      "package 'gtable' successfully unpacked and MD5 sums checked\n",
      "package 'digest' successfully unpacked and MD5 sums checked\n",
      "package 'plyr' successfully unpacked and MD5 sums checked\n",
      "\n",
      "The downloaded binary packages are in\n",
      "\tC:\\Users\\manas\\AppData\\Local\\Temp\\RtmpOY9vU1\\downloaded_packages\n"
     ]
    },
    {
     "name": "stderr",
     "output_type": "stream",
     "text": [
      "installing the source packages 'crayon', 'ggplot2'\n",
      "\n",
      "WARNING: Rtools is required to build R packages, but is not currently installed.\n",
      "\n",
      "Please download and install Rtools 3.5 from https://cran.r-project.org/bin/windows/Rtools/.\n"
     ]
    },
    {
     "name": "stdout",
     "output_type": "stream",
     "text": [
      "v  checking for file 'C:\\Users\\manas\\AppData\\Local\\Temp\\RtmpOY9vU1\\remotes5110211e2e81\\vqv-ggbiplot-7325e88/DESCRIPTION' (430ms)\n",
      "-  preparing 'ggbiplot':\n",
      "v  checking DESCRIPTION meta-information ... \n",
      "-  checking for LF line-endings in source and make files and shell scripts\n",
      "-  checking for empty or unneeded directories\n",
      "-  looking to see if a 'data/datalist' file should be added\n",
      "-  building 'ggbiplot_0.55.tar.gz'\n",
      "   \n",
      "\r"
     ]
    },
    {
     "name": "stderr",
     "output_type": "stream",
     "text": [
      "Loading required package: ggplot2\n",
      "Loading required package: plyr\n",
      "Warning message:\n",
      "\"package 'plyr' was built under R version 3.6.3\"Loading required package: scales\n",
      "Warning message:\n",
      "\"package 'scales' was built under R version 3.6.3\"Loading required package: grid\n"
     ]
    }
   ],
   "source": [
    "install_github(\"vqv/ggbiplot\")\n",
    "library(ggbiplot)"
   ]
  },
  {
   "cell_type": "code",
   "execution_count": 7,
   "id": "d42668ee",
   "metadata": {
    "vscode": {
     "languageId": "r"
    }
   },
   "outputs": [
    {
     "data": {
      "image/png": "[encoded data removed]",
      "text/plain": [
       "plot without title"
      ]
     },
     "metadata": {},
     "output_type": "display_data"
    },
    {
     "data": {
      "image/png": "[encoded data removed]",
      "text/plain": [
       "plot without title"
      ]
     },
     "metadata": {},
     "output_type": "display_data"
    }
   ],
   "source": [
    "ggbiplot(mtcars.pca)\n",
    "ggbiplot(mtcars.pca,labels=rownames(mtcars))"
   ]
  },
  {
   "cell_type": "code",
   "execution_count": 8,
   "id": "803364c2",
   "metadata": {
    "vscode": {
     "languageId": "r"
    }
   },
   "outputs": [],
   "source": [
    "###third####\n",
    "#additing a new car to mtcars, to add a new car lets creae a new car and add new car and mycars to the new dataset\n",
    "#creating a new car,adding a new row to mtcar dataset\n",
    "spacecar <- c(1000,60,50,500,0,0.5,2.5,0,1,0,0)"
   ]
  },
  {
   "cell_type": "code",
   "execution_count": 9,
   "id": "966bcd98",
   "metadata": {
    "vscode": {
     "languageId": "r"
    }
   },
   "outputs": [],
   "source": [
    "#create a new data set with mtcars and space car \n",
    "mtcarsplus <- rbind(mtcars, spacecar)\n",
    "mtcars.countryplus <- c(\"mtcarsplus.country\", \"Jupiter\")"
   ]
  },
  {
   "cell_type": "code",
   "execution_count": 10,
   "id": "f0bd92fa",
   "metadata": {
    "scrolled": true,
    "vscode": {
     "languageId": "r"
    }
   },
   "outputs": [
    {
     "ename": "ERROR",
     "evalue": "Error in `$<-.data.frame`(`*tmp*`, \"labels\", value = c(\"Mazda RX4\", \"Mazda RX4 Wag\", : replacement has 32 rows, data has 33\n",
     "output_type": "error",
     "traceback": [
      "Error in `$<-.data.frame`(`*tmp*`, \"labels\", value = c(\"Mazda RX4\", \"Mazda RX4 Wag\", : replacement has 32 rows, data has 33\nTraceback:\n",
      "1. ggbiplot(mtcarsplus.pca, labels = rownames(mtcars))",
      "2. `$<-`(`*tmp*`, \"labels\", value = c(\"Mazda RX4\", \"Mazda RX4 Wag\", \n . \"Datsun 710\", \"Hornet 4 Drive\", \"Hornet Sportabout\", \"Valiant\", \n . \"Duster 360\", \"Merc 240D\", \"Merc 230\", \"Merc 280\", \"Merc 280C\", \n . \"Merc 450SE\", \"Merc 450SL\", \"Merc 450SLC\", \"Cadillac Fleetwood\", \n . \"Lincoln Continental\", \"Chrysler Imperial\", \"Fiat 128\", \"Honda Civic\", \n . \"Toyota Corolla\", \"Toyota Corona\", \"Dodge Challenger\", \"AMC Javelin\", \n . \"Camaro Z28\", \"Pontiac Firebird\", \"Fiat X1-9\", \"Porsche 914-2\", \n . \"Lotus Europa\", \"Ford Pantera L\", \"Ferrari Dino\", \"Maserati Bora\", \n . \"Volvo 142E\"))",
      "3. `$<-.data.frame`(`*tmp*`, \"labels\", value = c(\"Mazda RX4\", \"Mazda RX4 Wag\", \n . \"Datsun 710\", \"Hornet 4 Drive\", \"Hornet Sportabout\", \"Valiant\", \n . \"Duster 360\", \"Merc 240D\", \"Merc 230\", \"Merc 280\", \"Merc 280C\", \n . \"Merc 450SE\", \"Merc 450SL\", \"Merc 450SLC\", \"Cadillac Fleetwood\", \n . \"Lincoln Continental\", \"Chrysler Imperial\", \"Fiat 128\", \"Honda Civic\", \n . \"Toyota Corolla\", \"Toyota Corona\", \"Dodge Challenger\", \"AMC Javelin\", \n . \"Camaro Z28\", \"Pontiac Firebird\", \"Fiat X1-9\", \"Porsche 914-2\", \n . \"Lotus Europa\", \"Ford Pantera L\", \"Ferrari Dino\", \"Maserati Bora\", \n . \"Volvo 142E\"))",
      "4. stop(sprintf(ngettext(N, \"replacement has %d row, data has %d\", \n .     \"replacement has %d rows, data has %d\"), N, nrows), domain = NA)"
     ]
    }
   ],
   "source": [
    "#finding the principal components of mtcarplus\n",
    "\n",
    "mtcarsplus.pca <- prcomp(mtcarsplus[,c(1:7,10,11)], center = TRUE,scale. = TRUE)\n",
    "\n",
    "ggbiplot(mtcarsplus.pca, labels=rownames(mtcars))"
   ]
  },
  {
   "cell_type": "code",
   "execution_count": null,
   "id": "a7fd43ec",
   "metadata": {
    "vscode": {
     "languageId": "r"
    }
   },
   "outputs": [],
   "source": []
  }
 ],
 "metadata": {
  "kernelspec": {
   "display_name": "R",
   "language": "R",
   "name": "ir"
  },
  "language_info": {
   "codemirror_mode": "r",
   "file_extension": ".r",
   "mimetype": "text/x-r-source",
   "name": "R",
   "pygments_lexer": "r",
   "version": "3.6.1"
  }
 },
 "nbformat": 4,
 "nbformat_minor": 5
}
